{
 "cells": [
  {
   "cell_type": "code",
   "execution_count": 2,
   "metadata": {
    "_cell_guid": "6c53202d-5c34-4859-e7e9-8ef5c7068287"
   },
   "outputs": [
    {
     "name": "stderr",
     "output_type": "stream",
     "text": [
      "Using TensorFlow backend.\n"
     ]
    }
   ],
   "source": [
    "import numpy as np \n",
    "import pandas as pd\n",
    "import matplotlib.pyplot as plt\n",
    "import lstm_models as models\n",
    "\n",
    "from collections import Counter\n",
    "from sklearn.feature_extraction.text import CountVectorizer\n",
    "from keras.preprocessing.text import Tokenizer\n",
    "from keras.preprocessing.sequence import pad_sequences\n",
    "from keras.models import Sequential\n",
    "from keras.layers import Dense, Embedding, CuDNNLSTM, CuDNNGRU, LSTM, GRU, SpatialDropout1D, Bidirectional\n",
    "from sklearn.model_selection import train_test_split\n",
    "from sklearn.utils import shuffle\n",
    "from keras.utils.np_utils import to_categorical\n",
    "import re\n",
    "import zipfile"
   ]
  },
  {
   "cell_type": "markdown",
   "metadata": {
    "_cell_guid": "2bc2702e-d6f4-df5f-b80e-50ab23a6d29e"
   },
   "source": [
    "Only keeping the needed columns."
   ]
  },
  {
   "cell_type": "code",
   "execution_count": 3,
   "metadata": {
    "_cell_guid": "89c8c923-c0bf-7b35-9ab8-e63f00b74e5a"
   },
   "outputs": [],
   "source": [
    "def read_csv(prefix=''):\n",
    "    train_data = pd.read_csv('../data/{}train_data.csv'.format(prefix), encoding='ISO-8859-1', keep_default_na=False)\n",
    "    dev_data = pd.read_csv('../data/{}dev_data.csv'.format(prefix), encoding='ISO-8859-1', keep_default_na=False)\n",
    "    test_data = pd.read_csv('../data/{}test_data.csv'.format(prefix), encoding='ISO-8859-1', keep_default_na=False)\n",
    "    return train_data, dev_data, test_data\n",
    "\n",
    "train_data, dev_data, test_data = read_csv('no_stemming_')"
   ]
  },
  {
   "cell_type": "code",
   "execution_count": 6,
   "metadata": {},
   "outputs": [
    {
     "data": {
      "text/html": [
       "<div>\n",
       "<style scoped>\n",
       "    .dataframe tbody tr th:only-of-type {\n",
       "        vertical-align: middle;\n",
       "    }\n",
       "\n",
       "    .dataframe tbody tr th {\n",
       "        vertical-align: top;\n",
       "    }\n",
       "\n",
       "    .dataframe thead th {\n",
       "        text-align: right;\n",
       "    }\n",
       "</style>\n",
       "<table border=\"1\" class=\"dataframe\">\n",
       "  <thead>\n",
       "    <tr style=\"text-align: right;\">\n",
       "      <th></th>\n",
       "      <th>text</th>\n",
       "      <th>sentiment</th>\n",
       "    </tr>\n",
       "  </thead>\n",
       "  <tbody>\n",
       "    <tr>\n",
       "      <th>0</th>\n",
       "      <td>can someone fix twitter please smell of aquati...</td>\n",
       "      <td>0</td>\n",
       "    </tr>\n",
       "    <tr>\n",
       "      <th>1</th>\n",
       "      <td>just walked up stopped story escalator at peac...</td>\n",
       "      <td>0</td>\n",
       "    </tr>\n",
       "    <tr>\n",
       "      <th>2</th>\n",
       "      <td>yes theres proof two lovebirds going to enjoy</td>\n",
       "      <td>4</td>\n",
       "    </tr>\n",
       "    <tr>\n",
       "      <th>3</th>\n",
       "      <td>im so sorry youtube video accidentally deleted...</td>\n",
       "      <td>0</td>\n",
       "    </tr>\n",
       "    <tr>\n",
       "      <th>4</th>\n",
       "      <td>want to go home now come back on thursday</td>\n",
       "      <td>0</td>\n",
       "    </tr>\n",
       "    <tr>\n",
       "      <th>5</th>\n",
       "      <td>mmmm shamrat arrived</td>\n",
       "      <td>4</td>\n",
       "    </tr>\n",
       "    <tr>\n",
       "      <th>6</th>\n",
       "      <td>going round aunites in pool x</td>\n",
       "      <td>4</td>\n",
       "    </tr>\n",
       "    <tr>\n",
       "      <th>7</th>\n",
       "      <td>cheers buddy will good seeing last night bit o...</td>\n",
       "      <td>4</td>\n",
       "    </tr>\n",
       "    <tr>\n",
       "      <th>8</th>\n",
       "      <td>sorry to hear will come kick ass in days if wa...</td>\n",
       "      <td>0</td>\n",
       "    </tr>\n",
       "    <tr>\n",
       "      <th>9</th>\n",
       "      <td>think time to retire saab</td>\n",
       "      <td>0</td>\n",
       "    </tr>\n",
       "  </tbody>\n",
       "</table>\n",
       "</div>"
      ],
      "text/plain": [
       "                                                text  sentiment\n",
       "0  can someone fix twitter please smell of aquati...          0\n",
       "1  just walked up stopped story escalator at peac...          0\n",
       "2      yes theres proof two lovebirds going to enjoy          4\n",
       "3  im so sorry youtube video accidentally deleted...          0\n",
       "4          want to go home now come back on thursday          0\n",
       "5                               mmmm shamrat arrived          4\n",
       "6                      going round aunites in pool x          4\n",
       "7  cheers buddy will good seeing last night bit o...          4\n",
       "8  sorry to hear will come kick ass in days if wa...          0\n",
       "9                          think time to retire saab          0"
      ]
     },
     "execution_count": 6,
     "metadata": {},
     "output_type": "execute_result"
    }
   ],
   "source": [
    "train_data.head(10)"
   ]
  },
  {
   "cell_type": "code",
   "execution_count": 4,
   "metadata": {},
   "outputs": [
    {
     "name": "stdout",
     "output_type": "stream",
     "text": [
      "train_data: 1024000\n",
      "dev_data: 256000\n",
      "test_data: 320000\n"
     ]
    }
   ],
   "source": [
    "X_train = train_data['text'].values\n",
    "X_dev = dev_data['text'].values\n",
    "X_test = test_data['text'].values\n",
    "\n",
    "print('train_data: ' + str(len(X_train)))\n",
    "print('dev_data: ' + str(len(X_dev)))\n",
    "print('test_data: ' + str(len(X_test)))"
   ]
  },
  {
   "cell_type": "code",
   "execution_count": 5,
   "metadata": {
    "_cell_guid": "43632d2d-6160-12ce-48b0-e5eb1c207076"
   },
   "outputs": [],
   "source": [
    "max_fatures = 20000\n",
    "tokenizer = Tokenizer(num_words=max_fatures, split=' ')\n",
    "tokenizer.fit_on_texts(X_train)"
   ]
  },
  {
   "cell_type": "code",
   "execution_count": 6,
   "metadata": {},
   "outputs": [],
   "source": [
    "X_train = tokenizer.texts_to_sequences(X_train)\n",
    "X_train = pad_sequences(X_train)\n",
    "\n",
    "X_dev = tokenizer.texts_to_sequences(X_dev)\n",
    "X_dev = pad_sequences(X_dev, maxlen=X_train.shape[1])\n",
    "\n",
    "X_test = tokenizer.texts_to_sequences(X_test)\n",
    "X_test = pad_sequences(X_test, maxlen=X_train.shape[1])"
   ]
  },
  {
   "cell_type": "code",
   "execution_count": 7,
   "metadata": {},
   "outputs": [
    {
     "name": "stdout",
     "output_type": "stream",
     "text": [
      "The shape of X_train: (1024000, 111)\n",
      "The shape of X_dev: (256000, 111)\n",
      "The shape of X_test: (320000, 111)\n"
     ]
    }
   ],
   "source": [
    "print('The shape of X_train: {}'.format(X_train.shape))\n",
    "print('The shape of X_dev: {}'.format(X_dev.shape))\n",
    "print('The shape of X_test: {}'.format(X_test.shape))"
   ]
  },
  {
   "cell_type": "code",
   "execution_count": 8,
   "metadata": {
    "_cell_guid": "b35748b8-2353-3db2-e571-5fd22bb93eb0"
   },
   "outputs": [
    {
     "name": "stdout",
     "output_type": "stream",
     "text": [
      "The shape of Y_train: (1024000, 2)\n",
      "The shape of Y_dev: (256000, 2)\n",
      "The shape of Y_test: (320000, 2)\n"
     ]
    }
   ],
   "source": [
    "Y_train = pd.get_dummies(train_data['sentiment']).values\n",
    "Y_dev = pd.get_dummies(dev_data['sentiment']).values\n",
    "Y_test = pd.get_dummies(test_data['sentiment']).values\n",
    "\n",
    "print('The shape of Y_train: {}'.format(Y_train.shape))\n",
    "print('The shape of Y_dev: {}'.format(Y_dev.shape))\n",
    "print('The shape of Y_test: {}'.format(Y_test.shape))"
   ]
  },
  {
   "cell_type": "code",
   "execution_count": 42,
   "metadata": {},
   "outputs": [],
   "source": [
    "np.save('../sequence/x_train_word_20000', X_train)\n",
    "np.save('../sequence/x_dev_word_20000', X_dev)\n",
    "np.save('../sequence/x_test_word_20000', X_test)\n",
    "np.save('../sequence/y_train', Y_train)\n",
    "np.save('../sequence/y_dev', Y_dev)\n",
    "np.save('../sequence/y_test', Y_test)"
   ]
  },
  {
   "cell_type": "code",
   "execution_count": 3,
   "metadata": {},
   "outputs": [],
   "source": [
    "max_features = 10000\n",
    "X_train = np.load('../sequence/x_train_word_{}.npy'.format(max_features))\n",
    "X_dev = np.load('../sequence/x_dev_word_{}.npy'.format(max_features))\n",
    "X_test = np.load('../sequence/x_test_word_{}.npy'.format(max_features))\n",
    "Y_train = np.load('../sequence/y_train.npy')\n",
    "Y_dev = np.load('../sequence/y_dev.npy')\n",
    "Y_test = np.load('../sequence/y_test.npy')"
   ]
  },
  {
   "cell_type": "markdown",
   "metadata": {},
   "source": [
    "We should explore LSTM, CuDNNLSTM, GRU, CuDNNGRU cells. CuDNN cells have following limitations: 1. The activation function has to be `tanh`. 2. It doesn't support dropout."
   ]
  },
  {
   "cell_type": "code",
   "execution_count": 10,
   "metadata": {},
   "outputs": [],
   "source": [
    "# Hyperparameters tuning for LSTM: https://arxiv.org/pdf/1707.06799.pdf\n",
    "max_fatures = 10000\n",
    "embed_dim = 200\n",
    "lstm_out = 128\n",
    "input_length = X_train.shape[1]\n",
    "epochs = 6\n",
    "# This is the sweet spot from experiments, but not sharply better than a larger value.\n",
    "batch_size = 64\n",
    "# Why 0.5: https://www.reddit.com/r/MachineLearning/comments/3oztvk/why_50_when_using_dropout/\n",
    "# Variational Dropout: https://arxiv.org/pdf/1512.05287.pdf\n",
    "input_dropout = 0.5\n",
    "recurrent_dropout = 0.5\n",
    "embedding_layer = Embedding(max_fatures, embed_dim, input_length=input_length)"
   ]
  },
  {
   "cell_type": "markdown",
   "metadata": {},
   "source": [
    "## CuDNNLSTM"
   ]
  },
  {
   "cell_type": "code",
   "execution_count": 15,
   "metadata": {},
   "outputs": [
    {
     "name": "stdout",
     "output_type": "stream",
     "text": [
      "_________________________________________________________________\n",
      "Layer (type)                 Output Shape              Param #   \n",
      "=================================================================\n",
      "embedding_7 (Embedding)      (None, 99, 200)           2000000   \n",
      "_________________________________________________________________\n",
      "spatial_dropout1d_7 (Spatial (None, 99, 200)           0         \n",
      "_________________________________________________________________\n",
      "bidirectional_2 (Bidirection (None, 200)               241600    \n",
      "_________________________________________________________________\n",
      "dense_7 (Dense)              (None, 2)                 402       \n",
      "=================================================================\n",
      "Total params: 2,242,002\n",
      "Trainable params: 2,242,002\n",
      "Non-trainable params: 0\n",
      "_________________________________________________________________\n",
      "None\n",
      "Train on 1024000 samples, validate on 256000 samples\n",
      "Epoch 1/5\n",
      " - 669s - loss: 0.4353 - acc: 0.7972 - val_loss: 0.4137 - val_acc: 0.8107\n",
      "Epoch 2/5\n",
      " - 669s - loss: 0.4030 - acc: 0.8158 - val_loss: 0.4066 - val_acc: 0.8163\n",
      "Epoch 3/5\n",
      " - 669s - loss: 0.3897 - acc: 0.8235 - val_loss: 0.4025 - val_acc: 0.8175\n",
      "Epoch 4/5\n",
      " - 669s - loss: 0.3806 - acc: 0.8284 - val_loss: 0.4020 - val_acc: 0.8188\n",
      "Epoch 5/5\n",
      " - 670s - loss: 0.3743 - acc: 0.8321 - val_loss: 0.4046 - val_acc: 0.8187\n"
     ]
    }
   ],
   "source": [
    "params = {\n",
    "    'model_type': CuDNNLSTM,\n",
    "    'batch_size': 64,\n",
    "    'embedding_type': 'randomly initialized',\n",
    "    'embedding_dim': 200,\n",
    "    'embedding_max_features': 10000,\n",
    "    'embedding_word_index': None,\n",
    "    'embedding_pretrained_zip_path': None,\n",
    "    'embedding_pretrained_name': None,\n",
    "    'epoch': 5,\n",
    "    'rnn_dim': 100,\n",
    "    'rnn_layer_num': 1,\n",
    "    'input_length': X_train.shape[1],\n",
    "    'input_dropout': 0.5,\n",
    "    'recurrent_dropout': None,\n",
    "    'optimizer': 'adam',\n",
    "    'activation': 'sigmoid',\n",
    "    'loss': 'binary_crossentropy',\n",
    "    'is_bidirectional': True,\n",
    "}\n",
    "\n",
    "model = models.get_model(params)\n",
    "history = model.fit(\n",
    "    X_train, Y_train, epochs=params['epoch'], batch_size=params['batch_size'], validation_data=[X_dev, Y_dev])"
   ]
  },
  {
   "cell_type": "code",
   "execution_count": 16,
   "metadata": {},
   "outputs": [
    {
     "data": {
      "image/png": "[encoded data removed]",
      "text/plain": [
       "<Figure size 432x288 with 1 Axes>"
      ]
     },
     "metadata": {},
     "output_type": "display_data"
    },
    {
     "name": "stdout",
     "output_type": "stream",
     "text": [
      "score: 0.40240706\n",
      "acc: 0.81894375\n"
     ]
    }
   ],
   "source": [
    "models.plot_model_train_history(history)\n",
    "score, acc = model.evaluate(X_test, Y_test, batch_size = params['batch_size'])\n",
    "print(\"score: %.8f\" % (score))\n",
    "print(\"acc: %.8f\" % (acc))"
   ]
  },
  {
   "cell_type": "markdown",
   "metadata": {},
   "source": [
    "## CuDNNLSTM with Glove Embedding"
   ]
  },
  {
   "cell_type": "code",
   "execution_count": 9,
   "metadata": {},
   "outputs": [
    {
     "name": "stdout",
     "output_type": "stream",
     "text": [
      "_________________________________________________________________\n",
      "Layer (type)                 Output Shape              Param #   \n",
      "=================================================================\n",
      "embedding_1 (Embedding)      (None, 111, 200)          74377000  \n",
      "_________________________________________________________________\n",
      "spatial_dropout1d_1 (Spatial (None, 111, 200)          0         \n",
      "_________________________________________________________________\n",
      "bidirectional_1 (Bidirection (None, 200)               241600    \n",
      "_________________________________________________________________\n",
      "dense_1 (Dense)              (None, 2)                 402       \n",
      "=================================================================\n",
      "Total params: 74,619,002\n",
      "Trainable params: 74,619,002\n",
      "Non-trainable params: 0\n",
      "_________________________________________________________________\n",
      "None\n",
      "Train on 1024000 samples, validate on 256000 samples\n",
      "Epoch 1/5\n",
      "1024000/1024000 [==============================] - 2063s 2ms/step - loss: 0.4305 - acc: 0.7994 - val_loss: 0.3992 - val_acc: 0.8181\n",
      "Epoch 2/5\n",
      "1024000/1024000 [==============================] - 2039s 2ms/step - loss: 0.3951 - acc: 0.8206 - val_loss: 0.3940 - val_acc: 0.8226\n",
      "Epoch 3/5\n",
      "1024000/1024000 [==============================] - 2043s 2ms/step - loss: 0.3816 - acc: 0.8280 - val_loss: 0.3965 - val_acc: 0.8232\n",
      "Epoch 4/5\n",
      "1024000/1024000 [==============================] - 2042s 2ms/step - loss: 0.3730 - acc: 0.8330 - val_loss: 0.3933 - val_acc: 0.8244\n",
      "Epoch 5/5\n",
      "1024000/1024000 [==============================] - 2037s 2ms/step - loss: 0.3666 - acc: 0.8363 - val_loss: 0.3955 - val_acc: 0.8248\n"
     ]
    }
   ],
   "source": [
    "params = {\n",
    "    'model_type': CuDNNLSTM,\n",
    "    'batch_size': 64,\n",
    "    'embedding_type': 'pretrained',\n",
    "    'embedding_dim': 200,\n",
    "    'embedding_max_features': 20000,\n",
    "    'embedding_word_index': tokenizer.word_index,\n",
    "    'embedding_pretrained_zip_path': '../embeddings/glove.twitter.27B.zip',\n",
    "    'embedding_pretrained_name': 'glove.twitter.27B.200d.txt',\n",
    "    'epoch': 5,\n",
    "    'rnn_dim': 100,\n",
    "    'rnn_layer_num': 1,\n",
    "    'input_length': X_train.shape[1],\n",
    "    'input_dropout': 0.5,\n",
    "    'recurrent_dropout': None,\n",
    "    'optimizer': 'adam',\n",
    "    'activation': 'sigmoid',\n",
    "    'loss': 'binary_crossentropy',\n",
    "    'is_bidirectional': True,\n",
    "}\n",
    "\n",
    "model = models.get_model(params)\n",
    "history = model.fit(\n",
    "    X_train, Y_train, epochs=params['epoch'], batch_size=params['batch_size'], validation_data=[X_dev, Y_dev])"
   ]
  },
  {
   "cell_type": "code",
   "execution_count": 10,
   "metadata": {},
   "outputs": [
    {
     "data": {
      "image/png": "[encoded data removed]",
      "text/plain": [
       "<Figure size 432x288 with 1 Axes>"
      ]
     },
     "metadata": {},
     "output_type": "display_data"
    },
    {
     "name": "stdout",
     "output_type": "stream",
     "text": [
      "320000/320000 [==============================] - 1003s 3ms/step\n",
      "score: 0.39423085\n",
      "acc: 0.82381251\n"
     ]
    }
   ],
   "source": [
    "models.plot_model_train_history(history)\n",
    "score, acc = model.evaluate(X_test, Y_test, batch_size = params['epoch'])\n",
    "print(\"score: %.8f\" % (score))\n",
    "print(\"acc: %.8f\" % (acc))"
   ]
  },
  {
   "cell_type": "markdown",
   "metadata": {},
   "source": [
    "## LSTM with Recurrent Dropout"
   ]
  },
  {
   "cell_type": "code",
   "execution_count": 12,
   "metadata": {},
   "outputs": [
    {
     "name": "stdout",
     "output_type": "stream",
     "text": [
      "_________________________________________________________________\n",
      "Layer (type)                 Output Shape              Param #   \n",
      "=================================================================\n",
      "embedding_3 (Embedding)      (None, 111, 200)          74377000  \n",
      "_________________________________________________________________\n",
      "spatial_dropout1d_3 (Spatial (None, 111, 200)          0         \n",
      "_________________________________________________________________\n",
      "bidirectional_3 (Bidirection (None, 200)               240800    \n",
      "_________________________________________________________________\n",
      "dense_3 (Dense)              (None, 2)                 402       \n",
      "=================================================================\n",
      "Total params: 74,618,202\n",
      "Trainable params: 74,618,202\n",
      "Non-trainable params: 0\n",
      "_________________________________________________________________\n",
      "None\n",
      "Train on 1024000 samples, validate on 256000 samples\n",
      "Epoch 1/4\n",
      "1024000/1024000 [==============================] - 2237s 2ms/step - loss: 0.4465 - acc: 0.7897 - val_loss: 0.4064 - val_acc: 0.8142\n",
      "Epoch 2/4\n",
      "1024000/1024000 [==============================] - 2205s 2ms/step - loss: 0.4070 - acc: 0.8138 - val_loss: 0.3990 - val_acc: 0.8186\n",
      "Epoch 3/4\n",
      "1024000/1024000 [==============================] - 2182s 2ms/step - loss: 0.3937 - acc: 0.8214 - val_loss: 0.3945 - val_acc: 0.8221\n",
      "Epoch 4/4\n",
      "1024000/1024000 [==============================] - 2192s 2ms/step - loss: 0.3843 - acc: 0.8263 - val_loss: 0.3950 - val_acc: 0.8225\n"
     ]
    }
   ],
   "source": [
    "params = {\n",
    "    'model_type': LSTM,\n",
    "    'batch_size': 256,\n",
    "    'embedding_type': 'pretrained',\n",
    "    'embedding_dim': 200,\n",
    "    'embedding_max_features': 20000,\n",
    "    'embedding_word_index': tokenizer.word_index,\n",
    "    'embedding_pretrained_zip_path': '../embeddings/glove.twitter.27B.zip',\n",
    "    'embedding_pretrained_name': 'glove.twitter.27B.200d.txt',\n",
    "    'epoch': 4,\n",
    "    'rnn_dim': 100,\n",
    "    'rnn_layer_num': 1,\n",
    "    'input_length': X_train.shape[1],\n",
    "    'input_dropout': 0.5,\n",
    "    'recurrent_dropout': 0.5,\n",
    "    'optimizer': 'adam',\n",
    "    'activation': 'sigmoid',\n",
    "    'loss': 'binary_crossentropy',\n",
    "    'is_bidirectional': True,\n",
    "}\n",
    "\n",
    "model = models.get_model(params)\n",
    "history = model.fit(\n",
    "    X_train, Y_train, epochs=params['epoch'], batch_size=params['batch_size'], validation_data=[X_dev, Y_dev])"
   ]
  },
  {
   "cell_type": "code",
   "execution_count": 14,
   "metadata": {},
   "outputs": [
    {
     "data": {
      "image/png": "[encoded data removed]",
      "text/plain": [
       "<Figure size 432x288 with 1 Axes>"
      ]
     },
     "metadata": {},
     "output_type": "display_data"
    },
    {
     "name": "stdout",
     "output_type": "stream",
     "text": [
      "320000/320000 [==============================] - 203s 633us/step\n",
      "score: 0.39376871\n",
      "acc: 0.82217500\n"
     ]
    }
   ],
   "source": [
    "models.plot_model_train_history(history)\n",
    "score, acc = model.evaluate(X_test, Y_test, batch_size = params['batch_size'])\n",
    "print(\"score: %.8f\" % (score))\n",
    "print(\"acc: %.8f\" % (acc))"
   ]
  },
  {
   "cell_type": "markdown",
   "metadata": {
    "_cell_guid": "4ebd7bc1-53c0-0e31-a0b0-b6d0a3017434"
   },
   "source": [
    "Extracting a validation set, and measuring score and accuracy."
   ]
  },
  {
   "cell_type": "markdown",
   "metadata": {},
   "source": [
    "To improve:\n",
    "1. The model is suffering from overfitting. We should add more dropout layers and try other regularization methods.\n",
    "2. Systematically search for the optimal combination of hyperparameters\n",
    "3. Try pretrained embedding, bidirectional RNN, combination of word and character level embedding (https://papers.nips.cc/paper/5782-character-level-convolutional-networks-for-text-classification.pdf)"
   ]
  },
  {
   "cell_type": "code",
   "execution_count": null,
   "metadata": {},
   "outputs": [],
   "source": []
  }
 ],
 "metadata": {
  "_change_revision": 185,
  "_is_fork": false,
  "kernelspec": {
   "display_name": "Python 3",
   "language": "python",
   "name": "python3"
  },
  "language_info": {
   "codemirror_mode": {
    "name": "ipython",
    "version": 3
   },
   "file_extension": ".py",
   "mimetype": "text/x-python",
   "name": "python",
   "nbconvert_exporter": "python",
   "pygments_lexer": "ipython3",
   "version": "3.6.5"
  }
 },
 "nbformat": 4,
 "nbformat_minor": 1
}
