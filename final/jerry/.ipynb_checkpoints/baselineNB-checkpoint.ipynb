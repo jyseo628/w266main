{
 "cells": [
  {
   "cell_type": "code",
   "execution_count": null,
   "metadata": {},
   "outputs": [],
   "source": [
    "import numpy as np \n",
    "import pandas as pd\n",
    "\n",
    "from sklearn.feature_extraction.text import CountVectorizer\n",
    "from sklearn.naive_bayes import BernoulliNB\n",
    "from sklearn.naive_bayes import MultinomialNB\n",
    "from sklearn.feature_extraction.text import *\n",
    "from sklearn.metrics import classification_report\n",
    "from sklearn.linear_model import LogisticRegression\n",
    "\n",
    "import re"
   ]
  },
  {
   "cell_type": "markdown",
   "metadata": {},
   "source": [
    "Only keeping the necessary columns."
   ]
  },
  {
   "cell_type": "code",
   "execution_count": null,
   "metadata": {},
   "outputs": [],
   "source": [
    "def read_csv(prefix=''):\n",
    "    train_data = pd.read_csv('../data/{}train_data.csv'.format(prefix), encoding='ISO-8859-1', keep_default_na=False)\n",
    "    dev_data = pd.read_csv('../data/{}dev_data.csv'.format(prefix), encoding='ISO-8859-1', keep_default_na=False)\n",
    "    test_data = pd.read_csv('../data/{}test_data.csv'.format(prefix), encoding='ISO-8859-1', keep_default_na=False)\n",
    "    return train_data, dev_data, test_data\n",
    "\n",
    "train_data, dev_data, test_data = read_csv('fully_cleansed_')"
   ]
  },
  {
   "cell_type": "code",
   "execution_count": null,
   "metadata": {},
   "outputs": [],
   "source": [
    "train_data.head(10)"
   ]
  },
  {
   "cell_type": "code",
   "execution_count": null,
   "metadata": {},
   "outputs": [],
   "source": [
    "test_data.head(10)"
   ]
  },
  {
   "cell_type": "code",
   "execution_count": null,
   "metadata": {},
   "outputs": [],
   "source": [
    "print('Positive rows in train data: {}'.format(train_data[ train_data['sentiment'] == 4]['sentiment'].size))\n",
    "print('Negative rows in train data: {}'.format(train_data[ train_data['sentiment'] == 0]['sentiment'].size))"
   ]
  },
  {
   "cell_type": "markdown",
   "metadata": {},
   "source": [
    "# Creating Baseline NB model"
   ]
  },
  {
   "cell_type": "code",
   "execution_count": null,
   "metadata": {},
   "outputs": [],
   "source": [
    "X_train, Y_train = train_data['text'].values, train_data['sentiment'].values\n",
    "X_dev, Y_dev = dev_data['text'].values, dev_data['sentiment'].values\n",
    "X_test, Y_test = test_data['text'].values, test_data['sentiment'].values\n",
    "print(X_train.shape, Y_train.shape)\n",
    "print(X_dev.shape, Y_dev.shape)\n",
    "print(X_test.shape, Y_test.shape)"
   ]
  },
  {
   "cell_type": "code",
   "execution_count": null,
   "metadata": {},
   "outputs": [],
   "source": [
    "# transform text data using Tfidf vectorizer\n",
    "tfidf = TfidfVectorizer(strip_accents='ascii', ngram_range=(1,2), min_df=2, \n",
    "                        use_idf=False, sublinear_tf=True)\n",
    "tfidf_train = tfidf.fit_transform(X_train)\n",
    "tfidf_test = tfidf.transform(X_test)\n",
    "train_tfidf_names = tfidf.get_feature_names()\n",
    "print(\"Size of the vocabulary is\", tfidf_train.shape[1])\n",
    "print(tfidf_train.shape, Y_train.shape)"
   ]
  },
  {
   "cell_type": "code",
   "execution_count": null,
   "metadata": {},
   "outputs": [],
   "source": [
    "# remove 0-weight terms using logistic regression\n",
    "logreg = LogisticRegression(penalty='l1', tol=0.01, C=1)\n",
    "logreg.fit(tfidf_train, Y_train)\n",
    "nonzero_feature_index = np.array(np.nonzero(logreg.coef_[0])[0])\n",
    "features = [train_tfidf_names[int(w)] for w in nonzero_feature_index]"
   ]
  },
  {
   "cell_type": "code",
   "execution_count": null,
   "metadata": {},
   "outputs": [],
   "source": [
    "tfidf = TfidfVectorizer(strip_accents='ascii', ngram_range=(1,2), min_df=2, \n",
    "                        use_idf=False, sublinear_tf=True, max_features=len(features))\n",
    "tfidf_train = tfidf.fit_transform(X_train)\n",
    "tfidf_test = tfidf.transform(X_test)\n",
    "train_tfidf_names = tfidf.get_feature_names()\n",
    "print(\"Size of the vocabulary is\", tfidf_train.shape[1])\n",
    "print(tfidf_train.shape, Y_train.shape)"
   ]
  },
  {
   "cell_type": "code",
   "execution_count": null,
   "metadata": {},
   "outputs": [],
   "source": [
    "bnb = BernoulliNB(alpha=1)\n",
    "bnb.fit(tfidf_train, Y_train)\n",
    "predicted = bnb.predict(tfidf_test)\n",
    "print (classification_report(predicted, Y_test))"
   ]
  },
  {
   "cell_type": "code",
   "execution_count": null,
   "metadata": {},
   "outputs": [],
   "source": [
    "mnb = MultinomialNB(alpha=1)\n",
    "mnb.fit(tfidf_train, Y_train)\n",
    "predicted = mnb.predict(tfidf_test)\n",
    "print (classification_report(predicted, Y_test))"
   ]
  },
  {
   "cell_type": "code",
   "execution_count": null,
   "metadata": {},
   "outputs": [],
   "source": [
    "log_prob = mnb.feature_log_prob_\n",
    "prob = np.exp(log_prob)\n",
    "sorted_prob = np.copy(prob)\n",
    "sorted_prob.sort(axis=1)\n",
    "feature_names = tfidf.get_feature_names()\n",
    "# Save 20 features in a list\n",
    "positive_index = []\n",
    "negative_index = []\n",
    "positive_feature_list = []\n",
    "negative_feature_list = []\n",
    "for i in range(len(prob[1])):\n",
    "    if prob[1][i] in sorted_prob[1][-11:-1]:\n",
    "        positive_index.append(i)\n",
    "for ind in positive_index:\n",
    "    positive_feature_list.append(feature_names[ind])\n",
    "    \n",
    "for i in range(len(prob[0])):\n",
    "    if prob[0][i] in sorted_prob[0][-11:-1]:\n",
    "        negative_index.append(i)\n",
    "for ind in negative_index:\n",
    "    negative_feature_list.append(feature_names[ind])\n",
    "    \n",
    "print(\"Top 10 positive words:\", positive_feature_list)\n",
    "print(\"Top 10 negative words:\", negative_feature_list)"
   ]
  }
 ],
 "metadata": {
  "kernelspec": {
   "display_name": "Python 3",
   "language": "python",
   "name": "python3"
  },
  "language_info": {
   "codemirror_mode": {
    "name": "ipython",
    "version": 3
   },
   "file_extension": ".py",
   "mimetype": "text/x-python",
   "name": "python",
   "nbconvert_exporter": "python",
   "pygments_lexer": "ipython3",
   "version": "3.6.5"
  }
 },
 "nbformat": 4,
 "nbformat_minor": 2
}
