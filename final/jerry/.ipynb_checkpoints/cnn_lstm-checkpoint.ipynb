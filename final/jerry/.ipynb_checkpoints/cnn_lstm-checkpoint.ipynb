{
 "cells": [
  {
   "cell_type": "code",
   "execution_count": 13,
   "metadata": {},
   "outputs": [],
   "source": [
    "import numpy as np \n",
    "import pandas as pd\n",
    "import matplotlib.pyplot as plt\n",
    "import lstm_models as models\n",
    "\n",
    "from collections import Counter\n",
    "from sklearn.feature_extraction.text import CountVectorizer\n",
    "from keras.preprocessing.text import Tokenizer\n",
    "from keras.preprocessing.sequence import pad_sequences\n",
    "from keras.models import Sequential\n",
    "from keras.layers import Dense, Embedding, CuDNNLSTM, Conv1D, MaxPooling1D, Activation, Bidirectional, Dropout\n",
    "from sklearn.model_selection import train_test_split\n",
    "from sklearn.utils import shuffle\n",
    "from keras.utils.np_utils import to_categorical\n",
    "import re\n",
    "import zipfile"
   ]
  },
  {
   "cell_type": "code",
   "execution_count": 2,
   "metadata": {},
   "outputs": [],
   "source": [
    "max_features = 10000\n",
    "X_train = np.load('../sequence/x_train_word_{}.npy'.format(max_features))\n",
    "X_dev = np.load('../sequence/x_dev_word_{}.npy'.format(max_features))\n",
    "X_test = np.load('../sequence/x_test_word_{}.npy'.format(max_features))\n",
    "Y_train = np.load('../sequence/y_train.npy')\n",
    "Y_dev = np.load('../sequence/y_dev.npy')\n",
    "Y_test = np.load('../sequence/y_test.npy')"
   ]
  },
  {
   "cell_type": "code",
   "execution_count": 9,
   "metadata": {},
   "outputs": [
    {
     "name": "stdout",
     "output_type": "stream",
     "text": [
      "The shape of X_train: (1024000, 99)\n",
      "The shape of X_dev: (256000, 99)\n",
      "The shape of X_test: (320000, 99)\n"
     ]
    }
   ],
   "source": [
    "print('The shape of X_train: {}'.format(X_train.shape))\n",
    "print('The shape of X_dev: {}'.format(X_dev.shape))\n",
    "print('The shape of X_test: {}'.format(X_test.shape))"
   ]
  },
  {
   "cell_type": "code",
   "execution_count": 4,
   "metadata": {},
   "outputs": [
    {
     "name": "stdout",
     "output_type": "stream",
     "text": [
      "The shape of Y_train: (1024000, 2)\n",
      "The shape of Y_dev: (256000, 2)\n",
      "The shape of Y_test: (320000, 2)\n"
     ]
    }
   ],
   "source": [
    "print('The shape of Y_train: {}'.format(Y_train.shape))\n",
    "print('The shape of Y_dev: {}'.format(Y_dev.shape))\n",
    "print('The shape of Y_test: {}'.format(Y_test.shape))"
   ]
  },
  {
   "cell_type": "code",
   "execution_count": 22,
   "metadata": {},
   "outputs": [],
   "source": [
    "# Embedding\n",
    "embedding_size = 128\n",
    "input_size = X_train.shape[1]\n",
    "\n",
    "# Convolution\n",
    "kernel_size = 5\n",
    "filters = 64\n",
    "pool_size = 4\n",
    "\n",
    "# LSTM\n",
    "lstm_output_size = 100"
   ]
  },
  {
   "cell_type": "code",
   "execution_count": 23,
   "metadata": {},
   "outputs": [],
   "source": [
    "model = Sequential()\n",
    "model.add(Embedding(max_features, embedding_size, input_length=input_size))\n",
    "model.add(Dropout(0.5))\n",
    "model.add(Conv1D(filters,\n",
    "                 kernel_size,\n",
    "                 padding='valid',\n",
    "                 activation='relu',\n",
    "                 strides=1))\n",
    "model.add(MaxPooling1D(pool_size=pool_size))\n",
    "model.add(CuDNNLSTM(lstm_output_size))\n",
    "model.add(Dense(2))\n",
    "model.add(Activation('sigmoid'))"
   ]
  },
  {
   "cell_type": "code",
   "execution_count": 24,
   "metadata": {},
   "outputs": [],
   "source": [
    "model.compile(loss='binary_crossentropy',\n",
    "              optimizer='adam',\n",
    "              metrics=['accuracy'])"
   ]
  },
  {
   "cell_type": "code",
   "execution_count": 25,
   "metadata": {},
   "outputs": [
    {
     "name": "stdout",
     "output_type": "stream",
     "text": [
      "Train on 1024000 samples, validate on 256000 samples\n",
      "Epoch 1/2\n",
      "1024000/1024000 [==============================] - 131s 128us/step - loss: 0.5710 - acc: 0.6942 - val_loss: 0.5550 - val_acc: 0.7060\n",
      "Epoch 2/2\n",
      "1024000/1024000 [==============================] - 129s 126us/step - loss: 0.5497 - acc: 0.7107 - val_loss: 0.5495 - val_acc: 0.7100\n"
     ]
    }
   ],
   "source": [
    "batch_size = 128\n",
    "epochs = 2\n",
    "\n",
    "history = model.fit(X_train, Y_train,\n",
    "    batch_size=batch_size,\n",
    "    epochs=epochs,\n",
    "    validation_data=(X_dev, Y_dev))"
   ]
  },
  {
   "cell_type": "code",
   "execution_count": 26,
   "metadata": {},
   "outputs": [
    {
     "name": "stdout",
     "output_type": "stream",
     "text": [
      "320000/320000 [==============================] - 10s 30us/step\n",
      "score: 0.55094036\n",
      "acc: 0.70935781\n"
     ]
    }
   ],
   "source": [
    "score, acc = model.evaluate(X_test, Y_test, batch_size = batch_size)\n",
    "print(\"score: %.8f\" % (score))\n",
    "print(\"acc: %.8f\" % (acc))"
   ]
  },
  {
   "cell_type": "code",
   "execution_count": null,
   "metadata": {},
   "outputs": [],
   "source": []
  }
 ],
 "metadata": {
  "kernelspec": {
   "display_name": "Python 3",
   "language": "python",
   "name": "python3"
  },
  "language_info": {
   "codemirror_mode": {
    "name": "ipython",
    "version": 3
   },
   "file_extension": ".py",
   "mimetype": "text/x-python",
   "name": "python",
   "nbconvert_exporter": "python",
   "pygments_lexer": "ipython3",
   "version": "3.6.5"
  }
 },
 "nbformat": 4,
 "nbformat_minor": 2
}
