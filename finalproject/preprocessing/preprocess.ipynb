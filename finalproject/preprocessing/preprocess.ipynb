{
 "cells": [
  {
   "cell_type": "code",
   "execution_count": 1,
   "metadata": {},
   "outputs": [
    {
     "name": "stderr",
     "output_type": "stream",
     "text": [
      "Using TensorFlow backend.\n"
     ]
    }
   ],
   "source": [
    "import numpy as np \n",
    "import pandas as pd\n",
    "import matplotlib.pyplot as plt\n",
    "import re\n",
    "import importlib\n",
    "import unicodedata\n",
    "import sys\n",
    "\n",
    "from collections import Counter\n",
    "from sklearn.model_selection import train_test_split\n",
    "from sklearn.utils import shuffle\n",
    "from keras.utils.np_utils import to_categorical\n",
    "from nltk.stem.porter import PorterStemmer"
   ]
  },
  {
   "cell_type": "code",
   "execution_count": 2,
   "metadata": {},
   "outputs": [],
   "source": [
    "data = pd.read_csv('../data/sentiment140_train.zip', encoding='ISO-8859-1', header=None, names=['sentiment','id','timestamp','type','user','text'])\n",
    "\n",
    "data = data[['text','sentiment']]"
   ]
  },
  {
   "cell_type": "code",
   "execution_count": 49,
   "metadata": {},
   "outputs": [
    {
     "name": "stdout",
     "output_type": "stream",
     "text": [
      "text         object\n",
      "sentiment     int64\n",
      "dtype: object\n"
     ]
    }
   ],
   "source": [
    "print(data.dtypes)"
   ]
  },
  {
   "cell_type": "code",
   "execution_count": 50,
   "metadata": {},
   "outputs": [
    {
     "name": "stdout",
     "output_type": "stream",
     "text": [
      "Positive rows: 800000\n",
      "Negative rows: 800000\n"
     ]
    }
   ],
   "source": [
    "print('Positive rows: {}'.format(data[ data['sentiment'] == 4]['sentiment'].size))\n",
    "print('Negative rows: {}'.format(data[ data['sentiment'] == 0]['sentiment'].size))"
   ]
  },
  {
   "cell_type": "code",
   "execution_count": 3,
   "metadata": {},
   "outputs": [
    {
     "name": "stdout",
     "output_type": "stream",
     "text": [
      "The vocabulary size is 1350598\n"
     ]
    }
   ],
   "source": [
    "vocabulary = set()\n",
    "for i, row in enumerate(data.iterrows()):\n",
    "    vocabulary |= set(row[1]['text'].split())\n",
    "print('The vocabulary size is', len(vocabulary))"
   ]
  },
  {
   "cell_type": "code",
   "execution_count": 51,
   "metadata": {},
   "outputs": [],
   "source": [
    "data = shuffle(data, random_state=40)"
   ]
  },
  {
   "cell_type": "code",
   "execution_count": 52,
   "metadata": {},
   "outputs": [],
   "source": [
    "train_data, test_data = train_test_split(data, test_size=0.2, random_state=40)\n",
    "train_data, dev_data = train_test_split(train_data, test_size=0.2, random_state=40)"
   ]
  },
  {
   "cell_type": "code",
   "execution_count": 53,
   "metadata": {},
   "outputs": [
    {
     "name": "stdout",
     "output_type": "stream",
     "text": [
      "train_data: 1024000\n",
      "test_data: 320000\n",
      "dev_data: 256000\n"
     ]
    }
   ],
   "source": [
    "print('train_data: ' + str(len(train_data)))\n",
    "print('test_data: ' + str(len(test_data)))\n",
    "print('dev_data: ' + str(len(dev_data)))"
   ]
  },
  {
   "cell_type": "code",
   "execution_count": 54,
   "metadata": {},
   "outputs": [],
   "source": [
    "train_data.to_csv('../data/train_data.csv', index=False)\n",
    "dev_data.to_csv('../data/dev_data.csv', index=False)\n",
    "test_data.to_csv('../data/test_data.csv', index=False)"
   ]
  },
  {
   "cell_type": "code",
   "execution_count": 39,
   "metadata": {},
   "outputs": [],
   "source": [
    "train_data = pd.read_csv('../data/train_data.csv', encoding='ISO-8859-1', keep_default_na=False)\n",
    "dev_data = pd.read_csv('../data/dev_data.csv', encoding='ISO-8859-1', keep_default_na=False)\n",
    "test_data = pd.read_csv('../data/test_data.csv', encoding='ISO-8859-1', keep_default_na=False)"
   ]
  },
  {
   "cell_type": "code",
   "execution_count": 40,
   "metadata": {},
   "outputs": [],
   "source": [
    "def print_df_head(df, limit=50):\n",
    "    for i, row in enumerate(df.iterrows()):\n",
    "        print(row[1]['sentiment'], row[1]['text'])\n",
    "        if i == limit:\n",
    "            break"
   ]
  },
  {
   "cell_type": "code",
   "execution_count": 41,
   "metadata": {},
   "outputs": [
    {
     "name": "stdout",
     "output_type": "stream",
     "text": [
      "0 Can someone fix Twitter please??  This smell of aquatic mammals is getting a bit overpowering \n",
      "0 Just walked up the stopped 5 story escalator at peachtree center.  Who knew I'd be getting a workout on the way to class? Urban trek.\n",
      "4 @AgentBooth Yes she did, there's proof. You two lovebirds are going to enjoy it \n",
      "0 @selenagomez i'm so sorry the youtube video you accidentally deleted was the dance video one   i was just about to watch it again...\n",
      "0 want to go home now and come back on Thursday... \n",
      "4 Mmmm... Shamrat has arrived... \n",
      "4 going round my aunites in her pool  x\n",
      "4 @stoob0t Cheers buddy, will do!  Was good seeing you last night and having a bit of a bash in the pit \n",
      "0 @thespunkyone sorry to hear that  I will come kick his ass in 20 days if you want me to! Just say the word and I will add it to my lis ...\n",
      "0 I think it's time to retire the Saab. \n",
      "4 is just about to watch one tree hill \n",
      "4 @HolliWinters oh, she's a naughty, naughty girl, darling. I would call fake \n",
      "4 Good morning, Sweet People! \n",
      "4 Last day of school... Teachers of LCS rejoice! \n",
      "0 @arjunghosh oops, sorry dude. Not a rule per se, but these guys do this from time to time \n",
      "0 @sweetliketoffee my mother took my laptop to watch something and my brothers on theirs.... \n",
      "0 @mal_CA i was  but i just got my apt over here in LA babe.. im sad now..so i wont c u for how many years now??\n",
      "4 don't stop believinnnnnnnn! hold on to that feeling \n",
      "0 cannot work this and is thinking of giving up! \n",
      "0 @BobbySoFamous I feel like a jerk now \n",
      "0 @Rai7Rai good morning! Yeah my head still hurts \n",
      "0 there's 173 people missing out on sayinf hi to me ...  well I'll get back to those who did tonight ;) still busy sorting my stuff!\n",
      "4 @thelovingkind It would brighten up any work day, I think! \n",
      "0 is going to be pink for her graduation tomorrow. \n",
      "0 @deltatwo Oh man that sounds so good. There's actually a Publix near me w/much UK candy but it's not near you \n",
      "4 @whykay Congrats \n",
      "0 I cant sleep, but im too sore to move \n",
      "4 Awww good day good day so far. \n",
      "4 Had a fantastic weekend!!!  Lots of sun, the ocean,  bbq'ing....ahhhh.  Another fantastic hot sunny day in Wales today.  \n",
      "4 The 17 again is a wonderful movie. I love it and Zac is very great \n",
      "4 wiiii I hear Radio Disney again \n",
      "4 Is just getting home from work. Long productive day, gonna be longer tommorrow. Love every second of it though. \n",
      "4 @twistednurse76 Morning \n",
      "4 &quot;you and me together, could do anything, babay! you and me together, yes, yes.&quot;    helpin baby study, doc appt, laundry, cuddlin w/ darlin\n",
      "0 @Jpxs15  but you are perpetuating it by including the stupid pussy tag \n",
      "0 i always wake up, craving these juice boxes my mom buys my brother for school. but this time she bought kool aid jammers.  ....\n",
      "0 @Shasuperstar It doesn't look like you and I are on the same Island cause I'm not have BBQ ribs for lunch \n",
      "4 @Candyflip78 I just read that. Thanks man. \n",
      "4 Morning    Im hoping Spurs will win today we need to finish 7th :-/  COYS!!!\n",
      "0 @mileycyrus you saved my life. you taught me life lessons. yet i've still never met you/gotten a reply  i love you miley Ã¢ÂÂ®Ã¢ÂÂ¥\n",
      "4 I want 900 followers by tonight  I'll be your bestest best friend in the world!\n",
      "4 @TkVu Good luck on your exams \n",
      "0 one of the fish has died \n",
      "4 Enjoying some free Joe's BBQ for my birthday! \n",
      "4 Ur the reason i can't stop smiling...   ..&quot;and i like it&quot;\n",
      "4 morning tweeps  hope you are all aven a good start to the week i'm just chilling at home working night shift this week again\n",
      "4 a close 2nd too... lol \n",
      "4 @Branduno: WE GET IT. YOU DON'T LIKE MS AND WOULD PREFER TO PLAY OUTSIDE. HERE'S A COOKIE, NOW SHUT UP \n",
      "4 @wo_ai  if you say it like that, it sounds like i'm the new portuguese PM!  i'll just be the portuguese country manager for our brand \n",
      "0 @RoRossonera where are you hiding? \n",
      "4 @Jonasbrothers thats for loving us \n"
     ]
    }
   ],
   "source": [
    "print_df_head(train_data)"
   ]
  },
  {
   "cell_type": "code",
   "execution_count": 42,
   "metadata": {},
   "outputs": [],
   "source": [
    "# Remove twitter @ tags\n",
    "def remove_twitter_at(text):\n",
    "    # Get rid of the leading @\n",
    "    text = re.sub('^@.*? ', '', text)\n",
    "    \n",
    "    # Get rid of @ in the middle of the tweet\n",
    "    text = re.sub(' @.*? ', ' ', text)\n",
    "    \n",
    "    # Get rid of tailing @\n",
    "    text = re.sub(' @.*?$', '', text)\n",
    "    \n",
    "    return text"
   ]
  },
  {
   "cell_type": "code",
   "execution_count": 43,
   "metadata": {},
   "outputs": [],
   "source": [
    "train_data['text'] = train_data['text'].apply(remove_twitter_at)\n",
    "test_data['text'] = test_data['text'].apply(remove_twitter_at)\n",
    "dev_data['text'] = dev_data['text'].apply(remove_twitter_at)"
   ]
  },
  {
   "cell_type": "code",
   "execution_count": 9,
   "metadata": {},
   "outputs": [],
   "source": [
    "# Create a table to map punctuations to None\n",
    "tbl = dict.fromkeys(i for i in range(sys.maxunicode)\n",
    "        if unicodedata.category(chr(i)).startswith('P'))\n",
    "\n",
    "def remove_punctuations(text):\n",
    "    return text.translate(tbl)"
   ]
  },
  {
   "cell_type": "code",
   "execution_count": 10,
   "metadata": {},
   "outputs": [],
   "source": [
    "train_data['text'] = train_data['text'].apply(remove_punctuations)\n",
    "test_data['text'] = test_data['text'].apply(remove_punctuations)\n",
    "dev_data['text'] = dev_data['text'].apply(remove_punctuations)"
   ]
  },
  {
   "cell_type": "code",
   "execution_count": 11,
   "metadata": {},
   "outputs": [],
   "source": [
    "# Only remove separate digits, not digits within word, such as `U2`\n",
    "def remove_digits(text):\n",
    "    # Remove leading digits\n",
    "    text = re.sub('^\\d+? ', ' ', text)\n",
    "    \n",
    "    # Remove other digits\n",
    "    text = re.sub(' \\d+', ' ', text)\n",
    "    \n",
    "    return text"
   ]
  },
  {
   "cell_type": "code",
   "execution_count": 12,
   "metadata": {},
   "outputs": [],
   "source": [
    "train_data['text'] = train_data['text'].apply(remove_digits)\n",
    "test_data['text'] = test_data['text'].apply(remove_digits)\n",
    "dev_data['text'] = dev_data['text'].apply(remove_digits)"
   ]
  },
  {
   "cell_type": "code",
   "execution_count": 44,
   "metadata": {},
   "outputs": [],
   "source": [
    "def to_lowercase(text):\n",
    "    return text.lower()"
   ]
  },
  {
   "cell_type": "code",
   "execution_count": 45,
   "metadata": {},
   "outputs": [],
   "source": [
    "train_data['text'] = train_data['text'].apply(to_lowercase)\n",
    "test_data['text'] = test_data['text'].apply(to_lowercase)\n",
    "dev_data['text'] = dev_data['text'].apply(to_lowercase)"
   ]
  },
  {
   "cell_type": "code",
   "execution_count": 15,
   "metadata": {},
   "outputs": [],
   "source": [
    "# Split a string to a list of words\n",
    "def split(text):\n",
    "    return text.split()"
   ]
  },
  {
   "cell_type": "code",
   "execution_count": 16,
   "metadata": {},
   "outputs": [],
   "source": [
    "train_data['text'] = train_data['text'].apply(split)\n",
    "test_data['text'] = test_data['text'].apply(split)\n",
    "dev_data['text'] = dev_data['text'].apply(split)"
   ]
  },
  {
   "cell_type": "code",
   "execution_count": 17,
   "metadata": {},
   "outputs": [],
   "source": [
    "# https://www.quora.com/Is-there-a-stop-word-list-specifically-designed-for-sentiment-analysis\n",
    "# As stated before, the general nltk stopwords may have a negative impacts on sentiment analysis, as it removes\n",
    "# negation words such as don't. Here I build a minimal set of stopwords specific to sentiment analysis. \n",
    "\n",
    "stopwords = [\n",
    "    'i', 'me', 'my', 'myself', 'we', 'our', 'ours', 'ourselves', 'you', \"you're\", \"you've\", \n",
    "    \"you'll\", \"you'd\", 'your', 'yours', 'yourself', 'yourselves', 'he', 'him', 'his', 'himself', \n",
    "    'she', \"she's\", 'her', 'hers', 'herself', 'it', \"it's\", 'its', 'itself', 'they', 'them', \n",
    "    'their', 'theirs', 'themselves', 'what', 'which', 'who', 'whom', 'this', 'that', \"that'll\", \n",
    "    'these', 'those', 'am', 'is', 'are', 'was', 'were', 'be', 'been', 'being', 'have', 'has', 'had', \n",
    "    'having', 'do', 'does', 'did', 'doing', 'a', 'an', 'the', 'and'\n",
    "]\n",
    "\n",
    "def remove_stopwords(arr):\n",
    "    arr = [word for word in arr if word not in stopwords]\n",
    "    return arr"
   ]
  },
  {
   "cell_type": "code",
   "execution_count": 18,
   "metadata": {},
   "outputs": [],
   "source": [
    "train_data['text'] = train_data['text'].apply(remove_stopwords)\n",
    "test_data['text'] = test_data['text'].apply(remove_stopwords)\n",
    "dev_data['text'] = dev_data['text'].apply(remove_stopwords)"
   ]
  },
  {
   "cell_type": "code",
   "execution_count": 62,
   "metadata": {},
   "outputs": [],
   "source": [
    "stemmer = PorterStemmer()\n",
    "\n",
    "# Transform word from the derived form to root form when applicable \n",
    "def stem_words(arr):\n",
    "    arr = [stemmer.stem(word) for word in arr]\n",
    "    return arr\n",
    "\n",
    "train_data['text'] = train_data['text'].apply(stem_words)\n",
    "test_data['text'] = test_data['text'].apply(stem_words)\n",
    "dev_data['text'] = dev_data['text'].apply(stem_words)"
   ]
  },
  {
   "cell_type": "code",
   "execution_count": 63,
   "metadata": {},
   "outputs": [],
   "source": [
    "def get_corpus_vocabulary(df):\n",
    "    vocabulary = Counter()\n",
    "    for _, row in df.iterrows():\n",
    "        words = row['text']\n",
    "        for word in words:\n",
    "            vocabulary[word] += 1\n",
    "    return vocabulary\n",
    "\n",
    "vocabulary = get_corpus_vocabulary(train_data)"
   ]
  },
  {
   "cell_type": "code",
   "execution_count": 64,
   "metadata": {},
   "outputs": [
    {
     "name": "stdout",
     "output_type": "stream",
     "text": [
      "The size of the training corpus: 332848\n",
      "The top 10 words are: [(361347, 'to'), (137945, 'for'), (136893, 'in'), (117479, 'of'), (113318, 'im'), (106876, 'on'), (96571, 'so'), (88166, 'go'), (81575, 'but'), (79925, 'just')]\n",
      "The least 10 words are: [(1, '$$$hip'), (1, '$$$giant'), (1, '$$$down'), (1, '$$$+'), (1, '$$$$$they'), (1, '$$$$$$fgdf^amp^^^^'), (1, '$$$$$$$$$$$$$'), (1, '$$$$$$$$$$$$'), (1, '$$$$$$$$$$$'), (1, '$$$$$$$$$$')]\n",
      "[1, 1, 1, 2, 2, 3, 4, 5, 6, 6, 7, 9, 10, 11, 12, 14, 15, 17, 19, 20, 22, 24, 26, 29, 31, 34, 37, 40, 43, 46, 49, 52, 56, 60, 63, 67, 72, 76, 81, 86, 92, 97, 103, 110, 117, 124, 132, 141, 151, 161, 171, 182, 193, 206, 219, 233, 248, 264, 280, 298, 317, 338, 359, 383, 409, 437, 466, 500, 536, 577, 622, 672, 727, 788, 854, 929, 1013, 1108, 1215, 1337, 1476, 1636, 1821, 2038, 2299, 2609, 2987, 3453, 4043, 4802, 5825, 7239, 9361, 12820, 19097, 32051, 63058, 138609, 235729, 332848]\n"
     ]
    },
    {
     "data": {
      "image/png": "[encoded data removed]",
      "text/plain": [
       "<Figure size 432x288 with 1 Axes>"
      ]
     },
     "metadata": {},
     "output_type": "display_data"
    }
   ],
   "source": [
    "def show_vocabulary_summary(vocabulary):\n",
    "    corpus_total_cnt = sum(vocabulary.values())\n",
    "    sorted_by_wd_cnt = sorted(((cnt, wd) for wd, cnt in vocabulary.items()), reverse=True)\n",
    "\n",
    "    plt_points = []\n",
    "    accu = 0\n",
    "    j = 0\n",
    "    for i in range(1, 101):\n",
    "        while accu < (corpus_total_cnt * i / 100.0):\n",
    "            accu += sorted_by_wd_cnt[j][0]\n",
    "            j += 1\n",
    "        plt_points.append(j)\n",
    "\n",
    "    print('The size of the training corpus: {}'.format(len(vocabulary)))\n",
    "    print('The top 10 words are: {}'.format(sorted_by_wd_cnt[:10]))\n",
    "    print('The least 10 words are: {}'.format(sorted_by_wd_cnt[-10:]))\n",
    "    print(plt_points)\n",
    "    plt.bar(range(1, 101), plt_points)\n",
    "    \n",
    "show_vocabulary_summary(vocabulary)"
   ]
  },
  {
   "cell_type": "markdown",
   "metadata": {},
   "source": [
    "The top 20000 words account for 94% word occurance of the entire corpus."
   ]
  },
  {
   "cell_type": "code",
   "execution_count": 19,
   "metadata": {},
   "outputs": [],
   "source": [
    "def join(arr):\n",
    "    return ' '.join(arr)"
   ]
  },
  {
   "cell_type": "code",
   "execution_count": 20,
   "metadata": {},
   "outputs": [],
   "source": [
    "train_data['text'] = train_data['text'].apply(join)\n",
    "test_data['text'] = test_data['text'].apply(join)\n",
    "dev_data['text'] = dev_data['text'].apply(join)"
   ]
  },
  {
   "cell_type": "code",
   "execution_count": 46,
   "metadata": {},
   "outputs": [
    {
     "name": "stdout",
     "output_type": "stream",
     "text": [
      "0 can someone fix twitter please??  this smell of aquatic mammals is getting a bit overpowering \n",
      "0 just walked up the stopped 5 story escalator at peachtree center.  who knew i'd be getting a workout on the way to class? urban trek.\n",
      "4 yes she did, there's proof. you two lovebirds are going to enjoy it \n",
      "0 i'm so sorry the youtube video you accidentally deleted was the dance video one   i was just about to watch it again...\n",
      "0 want to go home now and come back on thursday... \n",
      "4 mmmm... shamrat has arrived... \n",
      "4 going round my aunites in her pool  x\n",
      "4 cheers buddy, will do!  was good seeing you last night and having a bit of a bash in the pit \n",
      "0 sorry to hear that  i will come kick his ass in 20 days if you want me to! just say the word and i will add it to my lis ...\n",
      "0 i think it's time to retire the saab. \n",
      "4 is just about to watch one tree hill \n",
      "4 oh, she's a naughty, naughty girl, darling. i would call fake \n",
      "4 good morning, sweet people! \n",
      "4 last day of school... teachers of lcs rejoice! \n",
      "0 oops, sorry dude. not a rule per se, but these guys do this from time to time \n",
      "0 my mother took my laptop to watch something and my brothers on theirs.... \n",
      "0 i was  but i just got my apt over here in la babe.. im sad now..so i wont c u for how many years now??\n",
      "4 don't stop believinnnnnnnn! hold on to that feeling \n",
      "0 cannot work this and is thinking of giving up! \n",
      "0 i feel like a jerk now \n",
      "0 good morning! yeah my head still hurts \n",
      "0 there's 173 people missing out on sayinf hi to me ...  well i'll get back to those who did tonight ;) still busy sorting my stuff!\n",
      "4 it would brighten up any work day, i think! \n",
      "0 is going to be pink for her graduation tomorrow. \n",
      "0 oh man that sounds so good. there's actually a publix near me w/much uk candy but it's not near you \n",
      "4 congrats \n",
      "0 i cant sleep, but im too sore to move \n",
      "4 awww good day good day so far. \n",
      "4 had a fantastic weekend!!!  lots of sun, the ocean,  bbq'ing....ahhhh.  another fantastic hot sunny day in wales today.  \n",
      "4 the 17 again is a wonderful movie. i love it and zac is very great \n",
      "4 wiiii i hear radio disney again \n",
      "4 is just getting home from work. long productive day, gonna be longer tommorrow. love every second of it though. \n",
      "4 morning \n",
      "4 &quot;you and me together, could do anything, babay! you and me together, yes, yes.&quot;    helpin baby study, doc appt, laundry, cuddlin w/ darlin\n",
      "0  but you are perpetuating it by including the stupid pussy tag \n",
      "0 i always wake up, craving these juice boxes my mom buys my brother for school. but this time she bought kool aid jammers.  ....\n",
      "0 it doesn't look like you and i are on the same island cause i'm not have bbq ribs for lunch \n",
      "4 i just read that. thanks man. \n",
      "4 morning    im hoping spurs will win today we need to finish 7th :-/  coys!!!\n",
      "0 you saved my life. you taught me life lessons. yet i've still never met you/gotten a reply  i love you miley ã¢ââ®ã¢ââ¥\n",
      "4 i want 900 followers by tonight  i'll be your bestest best friend in the world!\n",
      "4 good luck on your exams \n",
      "0 one of the fish has died \n",
      "4 enjoying some free joe's bbq for my birthday! \n",
      "4 ur the reason i can't stop smiling...   ..&quot;and i like it&quot;\n",
      "4 morning tweeps  hope you are all aven a good start to the week i'm just chilling at home working night shift this week again\n",
      "4 a close 2nd too... lol \n",
      "4 we get it. you don't like ms and would prefer to play outside. here's a cookie, now shut up \n",
      "4  if you say it like that, it sounds like i'm the new portuguese pm!  i'll just be the portuguese country manager for our brand \n",
      "0 where are you hiding? \n",
      "4 thats for loving us \n"
     ]
    }
   ],
   "source": [
    "print_df_head(train_data)"
   ]
  },
  {
   "cell_type": "code",
   "execution_count": 32,
   "metadata": {},
   "outputs": [
    {
     "name": "stdout",
     "output_type": "stream",
     "text": [
      "train_data:\n",
      "[0 4]\n",
      "test_data:\n",
      "[4 0]\n",
      "dev_data:\n",
      "[0 4]\n"
     ]
    }
   ],
   "source": [
    "print('train_data:')\n",
    "print(train_data['sentiment'].unique())\n",
    "print('test_data:')\n",
    "print(test_data['sentiment'].unique())\n",
    "print('dev_data:')\n",
    "print(dev_data['sentiment'].unique())"
   ]
  },
  {
   "cell_type": "code",
   "execution_count": 33,
   "metadata": {},
   "outputs": [],
   "source": [
    "def replace_nan_by_empty_str(text):\n",
    "    if text == np.nan:\n",
    "        return ''\n",
    "    else:\n",
    "        return text"
   ]
  },
  {
   "cell_type": "code",
   "execution_count": 34,
   "metadata": {},
   "outputs": [],
   "source": [
    "train_data['text'] = train_data['text'].apply(replace_nan_by_empty_str)\n",
    "test_data['text'] = test_data['text'].apply(replace_nan_by_empty_str)\n",
    "dev_data['text'] = dev_data['text'].apply(replace_nan_by_empty_str)"
   ]
  },
  {
   "cell_type": "code",
   "execution_count": 35,
   "metadata": {},
   "outputs": [
    {
     "name": "stdout",
     "output_type": "stream",
     "text": [
      "train_data: 1024000\n",
      "dev_data: 256000\n",
      "test_data: 320000\n"
     ]
    }
   ],
   "source": [
    "print('train_data: ' + str(len(train_data)))\n",
    "print('dev_data: ' + str(len(dev_data)))\n",
    "print('test_data: ' + str(len(test_data)))"
   ]
  },
  {
   "cell_type": "code",
   "execution_count": 76,
   "metadata": {},
   "outputs": [],
   "source": [
    "train_data.to_csv('../data/fully_cleansed_train_data.csv', index=False)\n",
    "dev_data.to_csv('../data/fully_cleansed_dev_data.csv', index=False)\n",
    "test_data.to_csv('../data/fully_cleansed_test_data.csv', index=False)"
   ]
  },
  {
   "cell_type": "code",
   "execution_count": 26,
   "metadata": {},
   "outputs": [],
   "source": [
    "train_data.to_csv('../data/no_stemming_train_data.csv', index=False)\n",
    "dev_data.to_csv('../data/no_stemming_dev_data.csv', index=False)\n",
    "test_data.to_csv('../data/no_stemming_test_data.csv', index=False)"
   ]
  },
  {
   "cell_type": "code",
   "execution_count": 36,
   "metadata": {},
   "outputs": [],
   "source": [
    "train_data.to_csv('../data/no_tags_train_data.csv', index=False)\n",
    "dev_data.to_csv('../data/no_tags_dev_data.csv', index=False)\n",
    "test_data.to_csv('../data/no_tags_test_data.csv', index=False)"
   ]
  },
  {
   "cell_type": "code",
   "execution_count": 47,
   "metadata": {},
   "outputs": [],
   "source": [
    "train_data.to_csv('../data/no_tags_lower_train_data.csv', index=False)\n",
    "dev_data.to_csv('../data/no_tags_lower_dev_data.csv', index=False)\n",
    "test_data.to_csv('../data/no_tags_lower_test_data.csv', index=False)"
   ]
  }
 ],
 "metadata": {
  "kernelspec": {
   "display_name": "Python 3",
   "language": "python",
   "name": "python3"
  },
  "language_info": {
   "codemirror_mode": {
    "name": "ipython",
    "version": 3
   },
   "file_extension": ".py",
   "mimetype": "text/x-python",
   "name": "python",
   "nbconvert_exporter": "python",
   "pygments_lexer": "ipython3",
   "version": "3.5.3"
  }
 },
 "nbformat": 4,
 "nbformat_minor": 2
}
