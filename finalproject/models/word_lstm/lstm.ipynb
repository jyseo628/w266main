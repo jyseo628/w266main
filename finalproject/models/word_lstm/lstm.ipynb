{
 "cells": [
  {
   "cell_type": "code",
   "execution_count": 1,
   "metadata": {
    "_cell_guid": "6c53202d-5c34-4859-e7e9-8ef5c7068287"
   },
   "outputs": [
    {
     "name": "stderr",
     "output_type": "stream",
     "text": [
      "Using TensorFlow backend.\n"
     ]
    }
   ],
   "source": [
    "import numpy as np \n",
    "import pandas as pd\n",
    "import matplotlib.pyplot as plt\n",
    "import lstm_models as models\n",
    "\n",
    "from collections import Counter\n",
    "from sklearn.feature_extraction.text import CountVectorizer\n",
    "from keras.preprocessing.text import Tokenizer\n",
    "from keras.preprocessing.sequence import pad_sequences\n",
    "from keras.models import Sequential\n",
    "from keras.layers import Dense, Embedding, CuDNNLSTM, CuDNNGRU, LSTM, GRU, SpatialDropout1D, Bidirectional\n",
    "from sklearn.model_selection import train_test_split\n",
    "from sklearn.utils import shuffle\n",
    "from keras.utils.np_utils import to_categorical\n",
    "import re\n",
    "import zipfile"
   ]
  },
  {
   "cell_type": "code",
   "execution_count": 36,
   "metadata": {
    "_cell_guid": "89c8c923-c0bf-7b35-9ab8-e63f00b74e5a"
   },
   "outputs": [],
   "source": [
    "def read_csv(prefix=''):\n",
    "    train_data = pd.read_csv('../../data/{}train_data.csv'.format(prefix), encoding='ISO-8859-1', keep_default_na=False)\n",
    "    dev_data = pd.read_csv('../../data/{}dev_data.csv'.format(prefix), encoding='ISO-8859-1', keep_default_na=False)\n",
    "    test_data = pd.read_csv('../../data/{}test_data.csv'.format(prefix), encoding='ISO-8859-1', keep_default_na=False)\n",
    "    return train_data, dev_data, test_data\n",
    "\n",
    "train_data, dev_data, test_data = read_csv('no_stemming_')"
   ]
  },
  {
   "cell_type": "code",
   "execution_count": 6,
   "metadata": {},
   "outputs": [
    {
     "data": {
      "text/html": [
       "<div>\n",
       "<style scoped>\n",
       "    .dataframe tbody tr th:only-of-type {\n",
       "        vertical-align: middle;\n",
       "    }\n",
       "\n",
       "    .dataframe tbody tr th {\n",
       "        vertical-align: top;\n",
       "    }\n",
       "\n",
       "    .dataframe thead th {\n",
       "        text-align: right;\n",
       "    }\n",
       "</style>\n",
       "<table border=\"1\" class=\"dataframe\">\n",
       "  <thead>\n",
       "    <tr style=\"text-align: right;\">\n",
       "      <th></th>\n",
       "      <th>text</th>\n",
       "      <th>sentiment</th>\n",
       "    </tr>\n",
       "  </thead>\n",
       "  <tbody>\n",
       "    <tr>\n",
       "      <th>0</th>\n",
       "      <td>can someone fix twitter please smell of aquati...</td>\n",
       "      <td>0</td>\n",
       "    </tr>\n",
       "    <tr>\n",
       "      <th>1</th>\n",
       "      <td>just walked up stopped story escalator at peac...</td>\n",
       "      <td>0</td>\n",
       "    </tr>\n",
       "    <tr>\n",
       "      <th>2</th>\n",
       "      <td>yes theres proof two lovebirds going to enjoy</td>\n",
       "      <td>4</td>\n",
       "    </tr>\n",
       "    <tr>\n",
       "      <th>3</th>\n",
       "      <td>im so sorry youtube video accidentally deleted...</td>\n",
       "      <td>0</td>\n",
       "    </tr>\n",
       "    <tr>\n",
       "      <th>4</th>\n",
       "      <td>want to go home now come back on thursday</td>\n",
       "      <td>0</td>\n",
       "    </tr>\n",
       "    <tr>\n",
       "      <th>5</th>\n",
       "      <td>mmmm shamrat arrived</td>\n",
       "      <td>4</td>\n",
       "    </tr>\n",
       "    <tr>\n",
       "      <th>6</th>\n",
       "      <td>going round aunites in pool x</td>\n",
       "      <td>4</td>\n",
       "    </tr>\n",
       "    <tr>\n",
       "      <th>7</th>\n",
       "      <td>cheers buddy will good seeing last night bit o...</td>\n",
       "      <td>4</td>\n",
       "    </tr>\n",
       "    <tr>\n",
       "      <th>8</th>\n",
       "      <td>sorry to hear will come kick ass in days if wa...</td>\n",
       "      <td>0</td>\n",
       "    </tr>\n",
       "    <tr>\n",
       "      <th>9</th>\n",
       "      <td>think time to retire saab</td>\n",
       "      <td>0</td>\n",
       "    </tr>\n",
       "  </tbody>\n",
       "</table>\n",
       "</div>"
      ],
      "text/plain": [
       "                                                text  sentiment\n",
       "0  can someone fix twitter please smell of aquati...          0\n",
       "1  just walked up stopped story escalator at peac...          0\n",
       "2      yes theres proof two lovebirds going to enjoy          4\n",
       "3  im so sorry youtube video accidentally deleted...          0\n",
       "4          want to go home now come back on thursday          0\n",
       "5                               mmmm shamrat arrived          4\n",
       "6                      going round aunites in pool x          4\n",
       "7  cheers buddy will good seeing last night bit o...          4\n",
       "8  sorry to hear will come kick ass in days if wa...          0\n",
       "9                          think time to retire saab          0"
      ]
     },
     "execution_count": 6,
     "metadata": {},
     "output_type": "execute_result"
    }
   ],
   "source": [
    "train_data.head(10)"
   ]
  },
  {
   "cell_type": "code",
   "execution_count": 37,
   "metadata": {},
   "outputs": [
    {
     "name": "stdout",
     "output_type": "stream",
     "text": [
      "train_data: 1024000\n",
      "dev_data: 256000\n",
      "test_data: 320000\n"
     ]
    }
   ],
   "source": [
    "X_train = train_data['text'].values\n",
    "X_dev = dev_data['text'].values\n",
    "X_test = test_data['text'].values\n",
    "\n",
    "print('train_data: ' + str(len(X_train)))\n",
    "print('dev_data: ' + str(len(X_dev)))\n",
    "print('test_data: ' + str(len(X_test)))"
   ]
  },
  {
   "cell_type": "code",
   "execution_count": 38,
   "metadata": {
    "_cell_guid": "43632d2d-6160-12ce-48b0-e5eb1c207076"
   },
   "outputs": [],
   "source": [
    "max_fatures = 20000\n",
    "tokenizer = Tokenizer(num_words=max_fatures, split=' ')\n",
    "tokenizer.fit_on_texts(X_train)"
   ]
  },
  {
   "cell_type": "code",
   "execution_count": 39,
   "metadata": {},
   "outputs": [],
   "source": [
    "X_train = tokenizer.texts_to_sequences(X_train)\n",
    "X_train = pad_sequences(X_train)\n",
    "\n",
    "X_dev = tokenizer.texts_to_sequences(X_dev)\n",
    "X_dev = pad_sequences(X_dev, maxlen=X_train.shape[1])\n",
    "\n",
    "X_test = tokenizer.texts_to_sequences(X_test)\n",
    "X_test = pad_sequences(X_test, maxlen=X_train.shape[1])"
   ]
  },
  {
   "cell_type": "code",
   "execution_count": 40,
   "metadata": {},
   "outputs": [
    {
     "name": "stdout",
     "output_type": "stream",
     "text": [
      "The shape of X_train: (1024000, 111)\n",
      "The shape of X_dev: (256000, 111)\n",
      "The shape of X_test: (320000, 111)\n"
     ]
    }
   ],
   "source": [
    "print('The shape of X_train: {}'.format(X_train.shape))\n",
    "print('The shape of X_dev: {}'.format(X_dev.shape))\n",
    "print('The shape of X_test: {}'.format(X_test.shape))"
   ]
  },
  {
   "cell_type": "code",
   "execution_count": 41,
   "metadata": {
    "_cell_guid": "b35748b8-2353-3db2-e571-5fd22bb93eb0"
   },
   "outputs": [
    {
     "name": "stdout",
     "output_type": "stream",
     "text": [
      "The shape of Y_train: (1024000, 2)\n",
      "The shape of Y_dev: (256000, 2)\n",
      "The shape of Y_test: (320000, 2)\n"
     ]
    }
   ],
   "source": [
    "Y_train = pd.get_dummies(train_data['sentiment']).values\n",
    "Y_dev = pd.get_dummies(dev_data['sentiment']).values\n",
    "Y_test = pd.get_dummies(test_data['sentiment']).values\n",
    "\n",
    "print('The shape of Y_train: {}'.format(Y_train.shape))\n",
    "print('The shape of Y_dev: {}'.format(Y_dev.shape))\n",
    "print('The shape of Y_test: {}'.format(Y_test.shape))"
   ]
  },
  {
   "cell_type": "code",
   "execution_count": 42,
   "metadata": {},
   "outputs": [],
   "source": [
    "np.save('../../sequence/x_train_word_20000', X_train)\n",
    "np.save('../../sequence/x_dev_word_20000', X_dev)\n",
    "np.save('../../sequence/x_test_word_20000', X_test)\n",
    "np.save('../../sequence/y_train', Y_train)\n",
    "np.save('../../sequence/y_dev', Y_dev)\n",
    "np.save('../../sequence/y_test', Y_test)"
   ]
  },
  {
   "cell_type": "code",
   "execution_count": 17,
   "metadata": {},
   "outputs": [],
   "source": [
    "def load_sequence(max_features):\n",
    "    X_train = np.load('../../sequence/x_train_word_{}.npy'.format(max_features))\n",
    "    X_dev = np.load('../../sequence/x_dev_word_{}.npy'.format(max_features))\n",
    "    X_test = np.load('../../sequence/x_test_word_{}.npy'.format(max_features))\n",
    "    Y_train = np.load('../../sequence/y_train.npy')\n",
    "    Y_dev = np.load('../../sequence/y_dev.npy')\n",
    "    Y_test = np.load('../../sequence/y_test.npy')\n",
    "    return X_train, X_dev, X_test, Y_train, Y_dev, Y_test"
   ]
  },
  {
   "cell_type": "code",
   "execution_count": 18,
   "metadata": {},
   "outputs": [],
   "source": [
    "max_features = 20000\n",
    "X_train, X_dev, X_test, Y_train, Y_dev, Y_test = load_sequence(max_features)"
   ]
  },
  {
   "cell_type": "markdown",
   "metadata": {},
   "source": [
    "We should explore LSTM, CuDNNLSTM, GRU, CuDNNGRU cells. CuDNN cells have following limitations: 1. The activation function has to be `tanh`. 2. It doesn't support recurrent dropout."
   ]
  },
  {
   "cell_type": "markdown",
   "metadata": {},
   "source": [
    "## Vanilla CuDNNLSTM with Random Embedding"
   ]
  },
  {
   "cell_type": "code",
   "execution_count": 22,
   "metadata": {},
   "outputs": [
    {
     "name": "stdout",
     "output_type": "stream",
     "text": [
      "_________________________________________________________________\n",
      "Layer (type)                 Output Shape              Param #   \n",
      "=================================================================\n",
      "embedding_6 (Embedding)      (None, 117, 200)          4000000   \n",
      "_________________________________________________________________\n",
      "spatial_dropout1d_6 (Spatial (None, 117, 200)          0         \n",
      "_________________________________________________________________\n",
      "cu_dnnlstm_7 (CuDNNLSTM)     (None, 100)               120800    \n",
      "_________________________________________________________________\n",
      "dense_6 (Dense)              (None, 2)                 202       \n",
      "=================================================================\n",
      "Total params: 4,121,002\n",
      "Trainable params: 4,121,002\n",
      "Non-trainable params: 0\n",
      "_________________________________________________________________\n",
      "None\n",
      "Train on 1024000 samples, validate on 256000 samples\n",
      "Epoch 1/2\n",
      "1024000/1024000 [==============================] - 453s 443us/step - loss: 0.4270 - acc: 0.8020 - val_loss: 0.4065 - val_acc: 0.8147\n",
      "Epoch 2/2\n",
      "1024000/1024000 [==============================] - 454s 443us/step - loss: 0.3832 - acc: 0.8269 - val_loss: 0.3990 - val_acc: 0.8187\n"
     ]
    },
    {
     "data": {
      "image/png": "[encoded data removed]",
      "text/plain": [
       "<Figure size 432x288 with 1 Axes>"
      ]
     },
     "metadata": {},
     "output_type": "display_data"
    },
    {
     "name": "stdout",
     "output_type": "stream",
     "text": [
      "320000/320000 [==============================] - 38s 118us/step\n",
      "score: 0.39681336\n",
      "acc: 0.82010156\n"
     ]
    }
   ],
   "source": [
    "params = {\n",
    "    'model_type': CuDNNLSTM,\n",
    "    'batch_size': 64,\n",
    "    'embedding_type': 'randomly initialized',\n",
    "    'embedding_dim': 200,\n",
    "    'embedding_max_features': 20000,\n",
    "    'embedding_word_index': None,\n",
    "    'embedding_pretrained_zip_path': None,\n",
    "    'embedding_pretrained_name': None,\n",
    "    'epoch': 2,\n",
    "    'rnn_dim': 100,\n",
    "    'rnn_layer_num': 1,\n",
    "    'input_length': X_train.shape[1],\n",
    "    'input_dropout': 0,\n",
    "    'recurrent_dropout': None,\n",
    "    'optimizer': 'adam',\n",
    "    'activation': 'sigmoid',\n",
    "    'loss': 'binary_crossentropy',\n",
    "    'is_bidirectional': False,\n",
    "}\n",
    "\n",
    "model = models.get_model(params)\n",
    "history = model.fit(\n",
    "    X_train, Y_train, epochs=params['epoch'], batch_size=params['batch_size'], validation_data=[X_dev, Y_dev])\n",
    "\n",
    "models.plot_model_train_history(history)\n",
    "score, acc = model.evaluate(X_test, Y_test, batch_size = params['batch_size'])\n",
    "print(\"score: %.8f\" % (score))\n",
    "print(\"acc: %.8f\" % (acc))"
   ]
  },
  {
   "cell_type": "markdown",
   "metadata": {},
   "source": [
    "## Deep CuDNNLSTM with Random Embedding"
   ]
  },
  {
   "cell_type": "code",
   "execution_count": 23,
   "metadata": {},
   "outputs": [
    {
     "name": "stdout",
     "output_type": "stream",
     "text": [
      "_________________________________________________________________\n",
      "Layer (type)                 Output Shape              Param #   \n",
      "=================================================================\n",
      "embedding_7 (Embedding)      (None, 117, 200)          4000000   \n",
      "_________________________________________________________________\n",
      "spatial_dropout1d_7 (Spatial (None, 117, 200)          0         \n",
      "_________________________________________________________________\n",
      "cu_dnnlstm_8 (CuDNNLSTM)     (None, 117, 100)          120800    \n",
      "_________________________________________________________________\n",
      "cu_dnnlstm_9 (CuDNNLSTM)     (None, 100)               80800     \n",
      "_________________________________________________________________\n",
      "dense_7 (Dense)              (None, 2)                 202       \n",
      "=================================================================\n",
      "Total params: 4,201,802\n",
      "Trainable params: 4,201,802\n",
      "Non-trainable params: 0\n",
      "_________________________________________________________________\n",
      "None\n",
      "Train on 1024000 samples, validate on 256000 samples\n",
      "Epoch 1/2\n",
      "1024000/1024000 [==============================] - 797s 778us/step - loss: 0.4274 - acc: 0.8016 - val_loss: 0.4087 - val_acc: 0.8141\n",
      "Epoch 2/2\n",
      "1024000/1024000 [==============================] - 795s 776us/step - loss: 0.3837 - acc: 0.8267 - val_loss: 0.3989 - val_acc: 0.8181\n"
     ]
    },
    {
     "data": {
      "image/png": "[encoded data removed]",
      "text/plain": [
       "<Figure size 432x288 with 1 Axes>"
      ]
     },
     "metadata": {},
     "output_type": "display_data"
    },
    {
     "name": "stdout",
     "output_type": "stream",
     "text": [
      "320000/320000 [==============================] - 69s 215us/step\n",
      "score: 0.39721988\n",
      "acc: 0.81889531\n"
     ]
    }
   ],
   "source": [
    "params = {\n",
    "    'model_type': CuDNNLSTM,\n",
    "    'batch_size': 64,\n",
    "    'embedding_type': 'randomly initialized',\n",
    "    'embedding_dim': 200,\n",
    "    'embedding_max_features': 20000,\n",
    "    'embedding_word_index': None,\n",
    "    'embedding_pretrained_zip_path': None,\n",
    "    'embedding_pretrained_name': None,\n",
    "    'epoch': 2,\n",
    "    'rnn_dim': 100,\n",
    "    'rnn_layer_num': 2,\n",
    "    'input_length': X_train.shape[1],\n",
    "    'input_dropout': 0,\n",
    "    'recurrent_dropout': None,\n",
    "    'optimizer': 'adam',\n",
    "    'activation': 'sigmoid',\n",
    "    'loss': 'binary_crossentropy',\n",
    "    'is_bidirectional': False,\n",
    "}\n",
    "\n",
    "model = models.get_model(params)\n",
    "history = model.fit(\n",
    "    X_train, Y_train, epochs=params['epoch'], batch_size=params['batch_size'], validation_data=[X_dev, Y_dev])\n",
    "\n",
    "models.plot_model_train_history(history)\n",
    "score, acc = model.evaluate(X_test, Y_test, batch_size = params['batch_size'])\n",
    "print(\"score: %.8f\" % (score))\n",
    "print(\"acc: %.8f\" % (acc))"
   ]
  },
  {
   "cell_type": "markdown",
   "metadata": {},
   "source": [
    "## Bidirectional CuDNNLSTM with Random Embedding"
   ]
  },
  {
   "cell_type": "code",
   "execution_count": 29,
   "metadata": {},
   "outputs": [
    {
     "name": "stdout",
     "output_type": "stream",
     "text": [
      "_________________________________________________________________\n",
      "Layer (type)                 Output Shape              Param #   \n",
      "=================================================================\n",
      "embedding_12 (Embedding)     (None, 117, 200)          4000000   \n",
      "_________________________________________________________________\n",
      "spatial_dropout1d_12 (Spatia (None, 117, 200)          0         \n",
      "_________________________________________________________________\n",
      "bidirectional_4 (Bidirection (None, 200)               241600    \n",
      "_________________________________________________________________\n",
      "dense_12 (Dense)             (None, 2)                 402       \n",
      "=================================================================\n",
      "Total params: 4,242,002\n",
      "Trainable params: 4,242,002\n",
      "Non-trainable params: 0\n",
      "_________________________________________________________________\n",
      "None\n",
      "Train on 1024000 samples, validate on 256000 samples\n",
      "Epoch 1/2\n",
      "1024000/1024000 [==============================] - 835s 815us/step - loss: 0.4278 - acc: 0.8013 - val_loss: 0.4065 - val_acc: 0.8145\n",
      "Epoch 2/2\n",
      "1024000/1024000 [==============================] - 827s 808us/step - loss: 0.3840 - acc: 0.8265 - val_loss: 0.3987 - val_acc: 0.8189\n"
     ]
    },
    {
     "data": {
      "image/png": "[encoded data removed]",
      "text/plain": [
       "<Figure size 432x288 with 1 Axes>"
      ]
     },
     "metadata": {},
     "output_type": "display_data"
    },
    {
     "name": "stdout",
     "output_type": "stream",
     "text": [
      "320000/320000 [==============================] - 73s 229us/step\n",
      "score: 0.39787171\n",
      "acc: 0.81912812\n"
     ]
    }
   ],
   "source": [
    "params = {\n",
    "    'model_type': CuDNNLSTM,\n",
    "    'batch_size': 64,\n",
    "    'embedding_type': 'randomly initialized',\n",
    "    'embedding_dim': 200,\n",
    "    'embedding_max_features': 20000,\n",
    "    'embedding_word_index': None,\n",
    "    'embedding_pretrained_zip_path': None,\n",
    "    'embedding_pretrained_name': None,\n",
    "    'epoch': 2,\n",
    "    'rnn_dim': 100,\n",
    "    'rnn_layer_num': 1,\n",
    "    'input_length': X_train.shape[1],\n",
    "    'input_dropout': 0,\n",
    "    'recurrent_dropout': None,\n",
    "    'optimizer': 'adam',\n",
    "    'activation': 'sigmoid',\n",
    "    'loss': 'binary_crossentropy',\n",
    "    'is_bidirectional': True,\n",
    "}\n",
    "\n",
    "model = models.get_model(params)\n",
    "history = model.fit(\n",
    "    X_train, Y_train, epochs=params['epoch'], batch_size=params['batch_size'], validation_data=[X_dev, Y_dev])\n",
    "\n",
    "models.plot_model_train_history(history)\n",
    "score, acc = model.evaluate(X_test, Y_test, batch_size = params['batch_size'])\n",
    "print(\"score: %.8f\" % (score))\n",
    "print(\"acc: %.8f\" % (acc))"
   ]
  },
  {
   "cell_type": "markdown",
   "metadata": {},
   "source": [
    "## CuDNNLSTM with Dropout and Random Embedding"
   ]
  },
  {
   "cell_type": "code",
   "execution_count": 30,
   "metadata": {
    "scrolled": false
   },
   "outputs": [
    {
     "name": "stdout",
     "output_type": "stream",
     "text": [
      "_________________________________________________________________\n",
      "Layer (type)                 Output Shape              Param #   \n",
      "=================================================================\n",
      "embedding_13 (Embedding)     (None, 117, 200)          4000000   \n",
      "_________________________________________________________________\n",
      "spatial_dropout1d_13 (Spatia (None, 117, 200)          0         \n",
      "_________________________________________________________________\n",
      "cu_dnnlstm_15 (CuDNNLSTM)    (None, 100)               120800    \n",
      "_________________________________________________________________\n",
      "dense_13 (Dense)             (None, 2)                 202       \n",
      "=================================================================\n",
      "Total params: 4,121,002\n",
      "Trainable params: 4,121,002\n",
      "Non-trainable params: 0\n",
      "_________________________________________________________________\n",
      "None\n",
      "Train on 1024000 samples, validate on 256000 samples\n",
      "Epoch 1/3\n",
      "1024000/1024000 [==============================] - 473s 462us/step - loss: 0.4333 - acc: 0.7979 - val_loss: 0.4123 - val_acc: 0.8108\n",
      "Epoch 2/3\n",
      "1024000/1024000 [==============================] - 473s 462us/step - loss: 0.3967 - acc: 0.8197 - val_loss: 0.4019 - val_acc: 0.8175\n",
      "Epoch 3/3\n",
      "1024000/1024000 [==============================] - 474s 463us/step - loss: 0.3806 - acc: 0.8286 - val_loss: 0.4002 - val_acc: 0.8186\n"
     ]
    },
    {
     "data": {
      "image/png": "[encoded data removed]",
      "text/plain": [
       "<Figure size 432x288 with 1 Axes>"
      ]
     },
     "metadata": {},
     "output_type": "display_data"
    },
    {
     "name": "stdout",
     "output_type": "stream",
     "text": [
      "320000/320000 [==============================] - 39s 122us/step\n",
      "score: 0.39847215\n",
      "acc: 0.81892500\n"
     ]
    }
   ],
   "source": [
    "params = {\n",
    "    'model_type': CuDNNLSTM,\n",
    "    'batch_size': 64,\n",
    "    'embedding_type': 'randomly initialized',\n",
    "    'embedding_dim': 200,\n",
    "    'embedding_max_features': 20000,\n",
    "    'embedding_word_index': None,\n",
    "    'embedding_pretrained_zip_path': None,\n",
    "    'embedding_pretrained_name': None,\n",
    "    'epoch': 3,\n",
    "    'rnn_dim': 100,\n",
    "    'rnn_layer_num': 1,\n",
    "    'input_length': X_train.shape[1],\n",
    "    'input_dropout': 0.5,\n",
    "    'recurrent_dropout': None,\n",
    "    'optimizer': 'adam',\n",
    "    'activation': 'sigmoid',\n",
    "    'loss': 'binary_crossentropy',\n",
    "    'is_bidirectional': False,\n",
    "}\n",
    "\n",
    "model = models.get_model(params)\n",
    "history = model.fit(\n",
    "    X_train, Y_train, epochs=params['epoch'], batch_size=params['batch_size'], validation_data=[X_dev, Y_dev])\n",
    "\n",
    "models.plot_model_train_history(history)\n",
    "score, acc = model.evaluate(X_test, Y_test, batch_size = params['batch_size'])\n",
    "print(\"score: %.8f\" % (score))\n",
    "print(\"acc: %.8f\" % (acc))"
   ]
  },
  {
   "cell_type": "markdown",
   "metadata": {},
   "source": [
    "## CuDNNLSTM with Dropout and Glove Embedding"
   ]
  },
  {
   "cell_type": "code",
   "execution_count": 42,
   "metadata": {},
   "outputs": [
    {
     "name": "stdout",
     "output_type": "stream",
     "text": [
      "_________________________________________________________________\n",
      "Layer (type)                 Output Shape              Param #   \n",
      "=================================================================\n",
      "embedding_14 (Embedding)     (None, 111, 200)          74377000  \n",
      "_________________________________________________________________\n",
      "spatial_dropout1d_14 (Spatia (None, 111, 200)          0         \n",
      "_________________________________________________________________\n",
      "cu_dnnlstm_16 (CuDNNLSTM)    (None, 100)               120800    \n",
      "_________________________________________________________________\n",
      "dense_14 (Dense)             (None, 2)                 202       \n",
      "=================================================================\n",
      "Total params: 74,498,002\n",
      "Trainable params: 74,498,002\n",
      "Non-trainable params: 0\n",
      "_________________________________________________________________\n",
      "None\n",
      "Train on 1024000 samples, validate on 256000 samples\n",
      "Epoch 1/2\n",
      "1024000/1024000 [==============================] - 1688s 2ms/step - loss: 0.4112 - acc: 0.8110 - val_loss: 0.3913 - val_acc: 0.8232\n",
      "Epoch 2/2\n",
      "1024000/1024000 [==============================] - 1687s 2ms/step - loss: 0.3678 - acc: 0.8354 - val_loss: 0.3885 - val_acc: 0.8248\n"
     ]
    },
    {
     "data": {
      "image/png": "[encoded data removed]",
      "text/plain": [
       "<Figure size 432x288 with 1 Axes>"
      ]
     },
     "metadata": {},
     "output_type": "display_data"
    },
    {
     "name": "stdout",
     "output_type": "stream",
     "text": [
      "320000/320000 [==============================] - 1362s 4ms/step\n",
      "score: 0.38826618\n",
      "acc: 0.82500781\n"
     ]
    }
   ],
   "source": [
    "params = {\n",
    "    'model_type': CuDNNLSTM,\n",
    "    'batch_size': 64,\n",
    "    'embedding_type': 'pretrained',\n",
    "    'embedding_dim': 200,\n",
    "    'embedding_max_features': 20000,\n",
    "    'embedding_word_index': tokenizer.word_index,\n",
    "    'embedding_pretrained_zip_path': '../../embeddings/glove.twitter.27B.zip',\n",
    "    'embedding_pretrained_name': 'glove.twitter.27B.200d.txt',\n",
    "    'epoch': 2,\n",
    "    'rnn_dim': 100,\n",
    "    'rnn_layer_num': 1,\n",
    "    'input_length': X_train.shape[1],\n",
    "    'input_dropout': 0,\n",
    "    'recurrent_dropout': None,\n",
    "    'optimizer': 'adam',\n",
    "    'activation': 'sigmoid',\n",
    "    'loss': 'binary_crossentropy',\n",
    "    'is_bidirectional': False,\n",
    "}\n",
    "\n",
    "model = models.get_model(params)\n",
    "history = model.fit(\n",
    "    X_train, Y_train, epochs=params['epoch'], batch_size=params['batch_size'], validation_data=[X_dev, Y_dev])\n",
    "\n",
    "models.plot_model_train_history(history)\n",
    "score, acc = model.evaluate(X_test, Y_test, batch_size = params['batch_size'])\n",
    "print(\"score: %.8f\" % (score))\n",
    "print(\"acc: %.8f\" % (acc))"
   ]
  },
  {
   "cell_type": "markdown",
   "metadata": {},
   "source": [
    "To improve:\n",
    "1. The model is suffering from overfitting. We should add more dropout layers and try other regularization methods.\n",
    "2. Systematically search for the optimal combination of hyperparameters\n",
    "3. Try pretrained embedding, bidirectional RNN, combination of word and character level embedding (https://papers.nips.cc/paper/5782-character-level-convolutional-networks-for-text-classification.pdf)"
   ]
  },
  {
   "cell_type": "code",
   "execution_count": null,
   "metadata": {},
   "outputs": [],
   "source": []
  }
 ],
 "metadata": {
  "_change_revision": 185,
  "_is_fork": false,
  "kernelspec": {
   "display_name": "Python 3",
   "language": "python",
   "name": "python3"
  },
  "language_info": {
   "codemirror_mode": {
    "name": "ipython",
    "version": 3
   },
   "file_extension": ".py",
   "mimetype": "text/x-python",
   "name": "python",
   "nbconvert_exporter": "python",
   "pygments_lexer": "ipython3",
   "version": "3.5.3"
  }
 },
 "nbformat": 4,
 "nbformat_minor": 1
}
