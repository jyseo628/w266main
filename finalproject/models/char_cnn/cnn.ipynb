{
 "cells": [
  {
   "cell_type": "code",
   "execution_count": 1,
   "metadata": {},
   "outputs": [
    {
     "name": "stderr",
     "output_type": "stream",
     "text": [
      "Using TensorFlow backend.\n"
     ]
    }
   ],
   "source": [
    "# Characters level ConvNet paper: https://papers.nips.cc/paper/5782-character-level-convolutional-networks-for-text-classification.pdf\n",
    "import pandas as pd\n",
    "import numpy as np\n",
    "import tensorflow as tf\n",
    "import matplotlib.pyplot as plt\n",
    "import cnn_models as models\n",
    "import importlib\n",
    "\n",
    "from keras.models import Model\n",
    "from keras.layers import Input, Dense, Concatenate, ThresholdedReLU, MaxPooling1D, Flatten, Dropout, ReLU, Activation\n",
    "from keras.layers import Convolution1D\n",
    "from keras.layers import Embedding\n",
    "from keras.callbacks import TensorBoard\n",
    "from keras.optimizers import Adam, SGD\n",
    "from keras.utils import multi_gpu_model"
   ]
  },
  {
   "cell_type": "code",
   "execution_count": 2,
   "metadata": {},
   "outputs": [],
   "source": [
    "train_data = pd.read_csv('../../data/no_tags_lower_train_data.csv', encoding='ISO-8859-1', keep_default_na=False)\n",
    "test_data = pd.read_csv('../../data/no_tags_lower_test_data.csv', encoding='ISO-8859-1', keep_default_na=False)\n",
    "dev_data = pd.read_csv('../../data/no_tags_lower_dev_data.csv', encoding='ISO-8859-1', keep_default_na=False)"
   ]
  },
  {
   "cell_type": "code",
   "execution_count": 3,
   "metadata": {},
   "outputs": [
    {
     "data": {
      "text/plain": [
       "{'!': 41,\n",
       " '\"': 45,\n",
       " '#': 51,\n",
       " '$': 52,\n",
       " '%': 53,\n",
       " '&': 55,\n",
       " \"'\": 44,\n",
       " '(': 64,\n",
       " ')': 65,\n",
       " '*': 56,\n",
       " '+': 59,\n",
       " ',': 38,\n",
       " '-': 60,\n",
       " '.': 40,\n",
       " '/': 46,\n",
       " '0': 27,\n",
       " '1': 28,\n",
       " '2': 29,\n",
       " '3': 30,\n",
       " '4': 31,\n",
       " '5': 32,\n",
       " '6': 33,\n",
       " '7': 34,\n",
       " '8': 35,\n",
       " '9': 36,\n",
       " ':': 43,\n",
       " ';': 39,\n",
       " '<': 62,\n",
       " '=': 61,\n",
       " '>': 63,\n",
       " '?': 42,\n",
       " '@': 50,\n",
       " '[': 66,\n",
       " '\\\\': 47,\n",
       " ']': 67,\n",
       " '^': 54,\n",
       " '_': 49,\n",
       " '`': 58,\n",
       " 'a': 1,\n",
       " 'b': 2,\n",
       " 'c': 3,\n",
       " 'd': 4,\n",
       " 'e': 5,\n",
       " 'f': 6,\n",
       " 'g': 7,\n",
       " 'h': 8,\n",
       " 'i': 9,\n",
       " 'j': 10,\n",
       " 'k': 11,\n",
       " 'l': 12,\n",
       " 'm': 13,\n",
       " 'n': 14,\n",
       " 'o': 15,\n",
       " 'p': 16,\n",
       " 'q': 17,\n",
       " 'r': 18,\n",
       " 's': 19,\n",
       " 't': 20,\n",
       " 'u': 21,\n",
       " 'v': 22,\n",
       " 'w': 23,\n",
       " 'x': 24,\n",
       " 'y': 25,\n",
       " 'z': 26,\n",
       " '{': 68,\n",
       " '|': 48,\n",
       " '}': 69,\n",
       " '~': 57}"
      ]
     },
     "execution_count": 3,
     "metadata": {},
     "output_type": "execute_result"
    }
   ],
   "source": [
    "alphabet = 'abcdefghijklmnopqrstuvwxyz0123456789-,;.!?:\\'\"/\\\\|_@#$%^&*~`+-=<>()[]{}'\n",
    "alphabet_size = len(alphabet)\n",
    "alphabet_index = {alphabet[i]: i + 1 for i in range(alphabet_size)}\n",
    "alphabet_index"
   ]
  },
  {
   "cell_type": "code",
   "execution_count": 19,
   "metadata": {},
   "outputs": [
    {
     "name": "stdout",
     "output_type": "stream",
     "text": [
      "The max input size is: 1390\n"
     ]
    }
   ],
   "source": [
    "max_input_size = max(len(row['text']) for _, row in train_data.iterrows())\n",
    "print('The max input size is: ' + str(max_input_size))"
   ]
  },
  {
   "cell_type": "code",
   "execution_count": 20,
   "metadata": {},
   "outputs": [
    {
     "name": "stdout",
     "output_type": "stream",
     "text": [
      "The average input size is: 68.3684013671875\n"
     ]
    }
   ],
   "source": [
    "from statistics import mean \n",
    "average_input_size = mean(len(row['text']) for _, row in train_data.iterrows())\n",
    "print('The average input size is: ' + str(average_input_size))"
   ]
  },
  {
   "cell_type": "code",
   "execution_count": 7,
   "metadata": {},
   "outputs": [
    {
     "data": {
      "text/plain": [
       "(array([1.27090e+04, 6.07400e+04, 9.35960e+04, 1.03417e+05, 1.05259e+05,\n",
       "        1.00208e+05, 9.03710e+04, 8.04980e+04, 7.09430e+04, 6.40500e+04,\n",
       "        6.00210e+04, 5.98810e+04, 6.63510e+04, 4.78230e+04, 6.33100e+03,\n",
       "        8.37000e+02, 1.96000e+02, 1.00000e+02, 6.00000e+01, 4.60000e+01,\n",
       "        4.20000e+01, 2.90000e+01, 3.00000e+01, 3.30000e+01, 2.10000e+01,\n",
       "        1.80000e+01, 1.40000e+01, 2.00000e+01, 1.60000e+01, 1.40000e+01,\n",
       "        1.40000e+01, 1.50000e+01, 1.00000e+01, 1.20000e+01, 1.20000e+01,\n",
       "        1.40000e+01, 1.20000e+01, 4.00000e+00, 8.00000e+00, 9.00000e+00]),\n",
       " array([  0,  10,  20,  30,  40,  50,  60,  70,  80,  90, 100, 110, 120,\n",
       "        130, 140, 150, 160, 170, 180, 190, 200, 210, 220, 230, 240, 250,\n",
       "        260, 270, 280, 290, 300, 310, 320, 330, 340, 350, 360, 370, 380,\n",
       "        390, 400]),\n",
       " <a list of 40 Patch objects>)"
      ]
     },
     "execution_count": 7,
     "metadata": {},
     "output_type": "execute_result"
    },
    {
     "data": {
      "image/png": "[encoded data removed]",
      "text/plain": [
       "<Figure size 432x288 with 1 Axes>"
      ]
     },
     "metadata": {},
     "output_type": "display_data"
    }
   ],
   "source": [
    "plt.hist([len(row['text']) for _, row in train_data.iterrows()], bins=range(0, 410, 10))"
   ]
  },
  {
   "cell_type": "code",
   "execution_count": 4,
   "metadata": {},
   "outputs": [],
   "source": [
    "# Cut longer input. We should still be able to capture the meaning of most inputs \n",
    "# and meanwhile reduce the parameters number dramatically.\n",
    "input_length = 150"
   ]
  },
  {
   "cell_type": "code",
   "execution_count": 5,
   "metadata": {},
   "outputs": [],
   "source": [
    "X_train = models.text_to_padding(train_data, alphabet_index, input_length)\n",
    "X_test = models.text_to_padding(test_data, alphabet_index, input_length)\n",
    "X_dev = models.text_to_padding(dev_data, alphabet_index, input_length)"
   ]
  },
  {
   "cell_type": "code",
   "execution_count": 6,
   "metadata": {},
   "outputs": [
    {
     "name": "stdout",
     "output_type": "stream",
     "text": [
      "tranin: (1024000, 150)\n",
      "test: (320000, 150)\n",
      "dev: (256000, 150)\n"
     ]
    }
   ],
   "source": [
    "print('tranin: ' + str(X_train.shape))\n",
    "print('test: ' + str(X_test.shape))\n",
    "print('dev: ' + str(X_dev.shape))"
   ]
  },
  {
   "cell_type": "code",
   "execution_count": 7,
   "metadata": {},
   "outputs": [],
   "source": [
    "Y_train = pd.get_dummies(train_data['sentiment']).values\n",
    "Y_test = pd.get_dummies(test_data['sentiment']).values\n",
    "Y_dev = pd.get_dummies(dev_data['sentiment']).values"
   ]
  },
  {
   "cell_type": "code",
   "execution_count": 8,
   "metadata": {},
   "outputs": [
    {
     "name": "stdout",
     "output_type": "stream",
     "text": [
      "tranin: (1024000, 2)\n",
      "test: (320000, 2)\n",
      "dev: (256000, 2)\n"
     ]
    }
   ],
   "source": [
    "print('tranin: ' + str(Y_train.shape))\n",
    "print('test: ' + str(Y_test.shape))\n",
    "print('dev: ' + str(Y_dev.shape))"
   ]
  },
  {
   "cell_type": "code",
   "execution_count": 9,
   "metadata": {},
   "outputs": [],
   "source": [
    "large_filters = [1024, 1024, 1024, 1024, 1024, 1024]\n",
    "small_filters = [256, 256, 256, 256, 256, 256]\n",
    "large_fully_connected_dim = [2048, 2048]\n",
    "small_fully_connected_dim = [1024, 1024]"
   ]
  },
  {
   "cell_type": "markdown",
   "metadata": {},
   "source": [
    "## Use Small Conv Dimension"
   ]
  },
  {
   "cell_type": "code",
   "execution_count": 14,
   "metadata": {},
   "outputs": [
    {
     "name": "stdout",
     "output_type": "stream",
     "text": [
      "_________________________________________________________________\n",
      "Layer (type)                 Output Shape              Param #   \n",
      "=================================================================\n",
      "embedding_1 (Embedding)      (None, 150, 128)          8960      \n",
      "_________________________________________________________________\n",
      "conv1d_1 (Conv1D)            (None, 144, 256)          229632    \n",
      "_________________________________________________________________\n",
      "max_pooling1d_1 (MaxPooling1 (None, 48, 256)           0         \n",
      "_________________________________________________________________\n",
      "conv1d_2 (Conv1D)            (None, 42, 256)           459008    \n",
      "_________________________________________________________________\n",
      "max_pooling1d_2 (MaxPooling1 (None, 14, 256)           0         \n",
      "_________________________________________________________________\n",
      "conv1d_3 (Conv1D)            (None, 12, 256)           196864    \n",
      "_________________________________________________________________\n",
      "conv1d_4 (Conv1D)            (None, 10, 256)           196864    \n",
      "_________________________________________________________________\n",
      "conv1d_5 (Conv1D)            (None, 8, 256)            196864    \n",
      "_________________________________________________________________\n",
      "conv1d_6 (Conv1D)            (None, 6, 256)            196864    \n",
      "_________________________________________________________________\n",
      "max_pooling1d_3 (MaxPooling1 (None, 2, 256)            0         \n",
      "_________________________________________________________________\n",
      "flatten_1 (Flatten)          (None, 512)               0         \n",
      "_________________________________________________________________\n",
      "dense_1 (Dense)              (None, 1024)              525312    \n",
      "_________________________________________________________________\n",
      "dropout_1 (Dropout)          (None, 1024)              0         \n",
      "_________________________________________________________________\n",
      "dense_2 (Dense)              (None, 1024)              1049600   \n",
      "_________________________________________________________________\n",
      "dropout_2 (Dropout)          (None, 1024)              0         \n",
      "_________________________________________________________________\n",
      "dense_3 (Dense)              (None, 2)                 2050      \n",
      "=================================================================\n",
      "Total params: 3,062,018\n",
      "Trainable params: 3,062,018\n",
      "Non-trainable params: 0\n",
      "_________________________________________________________________\n",
      "None\n"
     ]
    }
   ],
   "source": [
    "params = {\n",
    "    'epochs': 4,\n",
    "    'batch_size': 256,\n",
    "    'alphabet_size': alphabet_size + 1, # All nonalphabet characters are seen as the same character\n",
    "    'embedding_size': 128,\n",
    "    'input_length': input_length,\n",
    "    'filters': small_filters,\n",
    "    'kernal_size': [7, 7, 3, 3, 3, 3],\n",
    "    'pool_size': [3, 3, None, None, None, 3],\n",
    "    'fully_connected_dim': small_fully_connected_dim,\n",
    "    'dropout_rate': [0.5, 0.5],\n",
    "    'loss': 'binary_crossentropy',\n",
    "    'activation': 'sigmoid',\n",
    "    'lr': 0.0001, # The most sensitive hyparameter. A smaller or greater value cannot converge\n",
    "}\n",
    "\n",
    "model = models.get_model(params)"
   ]
  },
  {
   "cell_type": "code",
   "execution_count": 15,
   "metadata": {},
   "outputs": [
    {
     "name": "stdout",
     "output_type": "stream",
     "text": [
      "Train on 1024000 samples, validate on 256000 samples\n",
      "Epoch 1/4\n",
      "1024000/1024000 [==============================] - 314s 306us/step - loss: 0.5133 - acc: 0.7390 - val_loss: 0.4420 - val_acc: 0.7935\n",
      "Epoch 2/4\n",
      "1024000/1024000 [==============================] - 306s 299us/step - loss: 0.4254 - acc: 0.8043 - val_loss: 0.4108 - val_acc: 0.8135\n",
      "Epoch 3/4\n",
      "1024000/1024000 [==============================] - 306s 298us/step - loss: 0.3934 - acc: 0.8234 - val_loss: 0.4007 - val_acc: 0.8176\n",
      "Epoch 4/4\n",
      "1024000/1024000 [==============================] - 305s 298us/step - loss: 0.3688 - acc: 0.8368 - val_loss: 0.3974 - val_acc: 0.8214\n"
     ]
    }
   ],
   "source": [
    "history = model.fit(\n",
    "    X_train, \n",
    "    Y_train, \n",
    "    validation_data=[X_dev, Y_dev], \n",
    "    epochs=params['epochs'], \n",
    "    batch_size=params['batch_size'])"
   ]
  },
  {
   "cell_type": "code",
   "execution_count": 16,
   "metadata": {},
   "outputs": [
    {
     "name": "stdout",
     "output_type": "stream",
     "text": [
      "320000/320000 [==============================] - 23s 72us/step\n",
      "score: 0.39603920\n",
      "acc: 0.82231719\n"
     ]
    }
   ],
   "source": [
    "score, acc = model.evaluate(X_test, Y_test, batch_size=params['batch_size'])\n",
    "print(\"score: %.8f\" % (score))\n",
    "print(\"acc: %.8f\" % (acc))"
   ]
  },
  {
   "cell_type": "markdown",
   "metadata": {},
   "source": [
    "## Use Small Conv Dimension and Shallow Layers"
   ]
  },
  {
   "cell_type": "code",
   "execution_count": 12,
   "metadata": {
    "scrolled": false
   },
   "outputs": [
    {
     "name": "stdout",
     "output_type": "stream",
     "text": [
      "_________________________________________________________________\n",
      "Layer (type)                 Output Shape              Param #   \n",
      "=================================================================\n",
      "embedding_3 (Embedding)      (None, 150, 128)          8960      \n",
      "_________________________________________________________________\n",
      "conv1d_10 (Conv1D)           (None, 144, 256)          229632    \n",
      "_________________________________________________________________\n",
      "max_pooling1d_7 (MaxPooling1 (None, 48, 256)           0         \n",
      "_________________________________________________________________\n",
      "conv1d_11 (Conv1D)           (None, 46, 256)           196864    \n",
      "_________________________________________________________________\n",
      "max_pooling1d_8 (MaxPooling1 (None, 15, 256)           0         \n",
      "_________________________________________________________________\n",
      "conv1d_12 (Conv1D)           (None, 13, 256)           196864    \n",
      "_________________________________________________________________\n",
      "max_pooling1d_9 (MaxPooling1 (None, 4, 256)            0         \n",
      "_________________________________________________________________\n",
      "flatten_3 (Flatten)          (None, 1024)              0         \n",
      "_________________________________________________________________\n",
      "dense_6 (Dense)              (None, 1024)              1049600   \n",
      "_________________________________________________________________\n",
      "dropout_4 (Dropout)          (None, 1024)              0         \n",
      "_________________________________________________________________\n",
      "dense_7 (Dense)              (None, 2)                 2050      \n",
      "=================================================================\n",
      "Total params: 1,683,970\n",
      "Trainable params: 1,683,970\n",
      "Non-trainable params: 0\n",
      "_________________________________________________________________\n",
      "None\n",
      "Train on 1024000 samples, validate on 256000 samples\n",
      "Epoch 1/5\n",
      "1024000/1024000 [==============================] - 240s 234us/step - loss: 0.5214 - acc: 0.7349 - val_loss: 0.4728 - val_acc: 0.7735\n",
      "Epoch 2/5\n",
      "1024000/1024000 [==============================] - 239s 233us/step - loss: 0.4445 - acc: 0.7925 - val_loss: 0.4289 - val_acc: 0.8019\n",
      "Epoch 3/5\n",
      "1024000/1024000 [==============================] - 240s 234us/step - loss: 0.4167 - acc: 0.8092 - val_loss: 0.4176 - val_acc: 0.8088\n",
      "Epoch 4/5\n",
      "1024000/1024000 [==============================] - 239s 233us/step - loss: 0.3978 - acc: 0.8200 - val_loss: 0.4080 - val_acc: 0.8141\n",
      "Epoch 5/5\n",
      "1024000/1024000 [==============================] - 239s 234us/step - loss: 0.3818 - acc: 0.8290 - val_loss: 0.4048 - val_acc: 0.8172\n",
      "320000/320000 [==============================] - 20s 62us/step\n",
      "score: 0.40334953\n",
      "acc: 0.81809531\n"
     ]
    }
   ],
   "source": [
    "params = {\n",
    "    'epochs': 5,\n",
    "    'batch_size': 256,\n",
    "    'alphabet_size': alphabet_size + 1, # All nonalphabet characters are seen as the same character\n",
    "    'embedding_size': 128,\n",
    "    'input_length': input_length,\n",
    "    'filters': [256, 256, 256],\n",
    "    'kernal_size': [7, 3, 3],\n",
    "    'pool_size': [3, 3, 3],\n",
    "    'fully_connected_dim': [1024],\n",
    "    'dropout_rate': [0.5],\n",
    "    'loss': 'binary_crossentropy',\n",
    "    'activation': 'sigmoid',\n",
    "    'lr': 0.0001, # The most sensitive hyparameter. A smaller or greater value cannot converge\n",
    "}\n",
    "\n",
    "model = models.get_model(params)\n",
    "history = model.fit(\n",
    "    X_train, \n",
    "    Y_train, \n",
    "    validation_data=[X_dev, Y_dev], \n",
    "    epochs=params['epochs'], \n",
    "    batch_size=params['batch_size'])\n",
    "score, acc = model.evaluate(X_test, Y_test, batch_size=params['batch_size'])\n",
    "print(\"score: %.8f\" % (score))\n",
    "print(\"acc: %.8f\" % (acc))"
   ]
  },
  {
   "cell_type": "markdown",
   "metadata": {},
   "source": [
    "## Use Small Conv Dimension without Dropout"
   ]
  },
  {
   "cell_type": "code",
   "execution_count": 13,
   "metadata": {
    "scrolled": false
   },
   "outputs": [
    {
     "name": "stdout",
     "output_type": "stream",
     "text": [
      "_________________________________________________________________\n",
      "Layer (type)                 Output Shape              Param #   \n",
      "=================================================================\n",
      "embedding_4 (Embedding)      (None, 150, 128)          8960      \n",
      "_________________________________________________________________\n",
      "conv1d_13 (Conv1D)           (None, 144, 256)          229632    \n",
      "_________________________________________________________________\n",
      "max_pooling1d_10 (MaxPooling (None, 48, 256)           0         \n",
      "_________________________________________________________________\n",
      "conv1d_14 (Conv1D)           (None, 42, 256)           459008    \n",
      "_________________________________________________________________\n",
      "max_pooling1d_11 (MaxPooling (None, 14, 256)           0         \n",
      "_________________________________________________________________\n",
      "conv1d_15 (Conv1D)           (None, 12, 256)           196864    \n",
      "_________________________________________________________________\n",
      "conv1d_16 (Conv1D)           (None, 10, 256)           196864    \n",
      "_________________________________________________________________\n",
      "conv1d_17 (Conv1D)           (None, 8, 256)            196864    \n",
      "_________________________________________________________________\n",
      "conv1d_18 (Conv1D)           (None, 6, 256)            196864    \n",
      "_________________________________________________________________\n",
      "max_pooling1d_12 (MaxPooling (None, 2, 256)            0         \n",
      "_________________________________________________________________\n",
      "flatten_4 (Flatten)          (None, 512)               0         \n",
      "_________________________________________________________________\n",
      "dense_8 (Dense)              (None, 1024)              525312    \n",
      "_________________________________________________________________\n",
      "dropout_5 (Dropout)          (None, 1024)              0         \n",
      "_________________________________________________________________\n",
      "dense_9 (Dense)              (None, 1024)              1049600   \n",
      "_________________________________________________________________\n",
      "dropout_6 (Dropout)          (None, 1024)              0         \n",
      "_________________________________________________________________\n",
      "dense_10 (Dense)             (None, 2)                 2050      \n",
      "=================================================================\n",
      "Total params: 3,062,018\n",
      "Trainable params: 3,062,018\n",
      "Non-trainable params: 0\n",
      "_________________________________________________________________\n",
      "None\n",
      "Train on 1024000 samples, validate on 256000 samples\n",
      "Epoch 1/5\n",
      "1024000/1024000 [==============================] - 302s 295us/step - loss: 0.5134 - acc: 0.7411 - val_loss: 0.4585 - val_acc: 0.7860\n",
      "Epoch 2/5\n",
      "1024000/1024000 [==============================] - 300s 293us/step - loss: 0.4324 - acc: 0.7998 - val_loss: 0.4200 - val_acc: 0.8074\n",
      "Epoch 3/5\n",
      "1024000/1024000 [==============================] - 300s 293us/step - loss: 0.3985 - acc: 0.8201 - val_loss: 0.4038 - val_acc: 0.8173\n",
      "Epoch 4/5\n",
      "1024000/1024000 [==============================] - 300s 293us/step - loss: 0.3746 - acc: 0.8334 - val_loss: 0.3959 - val_acc: 0.8209\n",
      "Epoch 5/5\n",
      "1024000/1024000 [==============================] - 300s 293us/step - loss: 0.3527 - acc: 0.8449 - val_loss: 0.3947 - val_acc: 0.8230\n",
      "320000/320000 [==============================] - 23s 71us/step\n",
      "score: 0.39374935\n",
      "acc: 0.82349531\n"
     ]
    }
   ],
   "source": [
    "params = {\n",
    "    'epochs': 5,\n",
    "    'batch_size': 256,\n",
    "    'alphabet_size': alphabet_size + 1, # All nonalphabet characters are seen as the same character\n",
    "    'embedding_size': 128,\n",
    "    'input_length': input_length,\n",
    "    'filters': small_filters,\n",
    "    'kernal_size': [7, 7, 3, 3, 3, 3],\n",
    "    'pool_size': [3, 3, None, None, None, 3],\n",
    "    'fully_connected_dim': small_fully_connected_dim,\n",
    "    'dropout_rate': [0, 0],\n",
    "    'loss': 'binary_crossentropy',\n",
    "    'activation': 'sigmoid',\n",
    "    'lr': 0.0001, # The most sensitive hyparameter. A smaller or greater value cannot converge\n",
    "}\n",
    "\n",
    "model = models.get_model(params)\n",
    "history = model.fit(\n",
    "    X_train, \n",
    "    Y_train, \n",
    "    validation_data=[X_dev, Y_dev], \n",
    "    epochs=params['epochs'], \n",
    "    batch_size=params['batch_size'])\n",
    "score, acc = model.evaluate(X_test, Y_test, batch_size=params['batch_size'])\n",
    "print(\"score: %.8f\" % (score))\n",
    "print(\"acc: %.8f\" % (acc))"
   ]
  },
  {
   "cell_type": "markdown",
   "metadata": {},
   "source": [
    "## Use Large Conv Dimension"
   ]
  },
  {
   "cell_type": "code",
   "execution_count": 15,
   "metadata": {},
   "outputs": [
    {
     "name": "stdout",
     "output_type": "stream",
     "text": [
      "_________________________________________________________________\n",
      "Layer (type)                 Output Shape              Param #   \n",
      "=================================================================\n",
      "embedding_3 (Embedding)      (None, 150, 128)          8960      \n",
      "_________________________________________________________________\n",
      "conv1d_13 (Conv1D)           (None, 144, 1024)         918528    \n",
      "_________________________________________________________________\n",
      "max_pooling1d_7 (MaxPooling1 (None, 48, 1024)          0         \n",
      "_________________________________________________________________\n",
      "conv1d_14 (Conv1D)           (None, 42, 1024)          7341056   \n",
      "_________________________________________________________________\n",
      "max_pooling1d_8 (MaxPooling1 (None, 14, 1024)          0         \n",
      "_________________________________________________________________\n",
      "conv1d_15 (Conv1D)           (None, 12, 1024)          3146752   \n",
      "_________________________________________________________________\n",
      "conv1d_16 (Conv1D)           (None, 10, 1024)          3146752   \n",
      "_________________________________________________________________\n",
      "conv1d_17 (Conv1D)           (None, 8, 1024)           3146752   \n",
      "_________________________________________________________________\n",
      "conv1d_18 (Conv1D)           (None, 6, 1024)           3146752   \n",
      "_________________________________________________________________\n",
      "max_pooling1d_9 (MaxPooling1 (None, 2, 1024)           0         \n",
      "_________________________________________________________________\n",
      "flatten_3 (Flatten)          (None, 2048)              0         \n",
      "_________________________________________________________________\n",
      "dense_7 (Dense)              (None, 2048)              4196352   \n",
      "_________________________________________________________________\n",
      "dropout_5 (Dropout)          (None, 2048)              0         \n",
      "_________________________________________________________________\n",
      "dense_8 (Dense)              (None, 2048)              4196352   \n",
      "_________________________________________________________________\n",
      "dropout_6 (Dropout)          (None, 2048)              0         \n",
      "_________________________________________________________________\n",
      "dense_9 (Dense)              (None, 2)                 4098      \n",
      "=================================================================\n",
      "Total params: 29,252,354\n",
      "Trainable params: 29,252,354\n",
      "Non-trainable params: 0\n",
      "_________________________________________________________________\n",
      "None\n"
     ]
    }
   ],
   "source": [
    "params = {\n",
    "    'epochs': 3,\n",
    "    'batch_size': 256,\n",
    "    'alphabet_size': alphabet_size + 1, # All nonalphabet characters are seen as the same character\n",
    "    'embedding_size': 128,\n",
    "    'input_length': input_length,\n",
    "    'filters': large_filters,\n",
    "    'kernal_size': [7, 7, 3, 3, 3, 3],\n",
    "    'pool_size': [3, 3, None, None, None, 3],\n",
    "    'fully_connected_dim': large_fully_connected_dim,\n",
    "    'dropout_rate': [0.5, 0.5],\n",
    "    'loss': 'binary_crossentropy',\n",
    "    'activation': 'sigmoid',\n",
    "    'lr': 0.0001, # The most sensitive hyparameter. A smaller or greater value cannot converge\n",
    "}\n",
    "\n",
    "model = models.get_model(params)"
   ]
  },
  {
   "cell_type": "code",
   "execution_count": 16,
   "metadata": {},
   "outputs": [
    {
     "name": "stdout",
     "output_type": "stream",
     "text": [
      "Train on 1024000 samples, validate on 256000 samples\n",
      "Epoch 1/3\n",
      "1024000/1024000 [==============================] - 1988s 2ms/step - loss: 0.4637 - acc: 0.7737 - val_loss: 0.3935 - val_acc: 0.8238\n",
      "Epoch 2/3\n",
      "1024000/1024000 [==============================] - 1980s 2ms/step - loss: 0.3693 - acc: 0.8365 - val_loss: 0.3716 - val_acc: 0.8355\n",
      "Epoch 3/3\n",
      "1024000/1024000 [==============================] - 1979s 2ms/step - loss: 0.3151 - acc: 0.8652 - val_loss: 0.3716 - val_acc: 0.8364\n"
     ]
    }
   ],
   "source": [
    "history = model.fit(\n",
    "    X_train, \n",
    "    Y_train, \n",
    "    validation_data=[X_dev, Y_dev], \n",
    "    epochs=params['epochs'], \n",
    "    batch_size=params['batch_size'])"
   ]
  },
  {
   "cell_type": "code",
   "execution_count": 17,
   "metadata": {},
   "outputs": [
    {
     "name": "stdout",
     "output_type": "stream",
     "text": [
      "320000/320000 [==============================] - 146s 456us/step\n",
      "score: 0.37170496\n",
      "acc: 0.83578750\n"
     ]
    }
   ],
   "source": [
    "score, acc = model.evaluate(X_test, Y_test, batch_size=params['batch_size'])\n",
    "print(\"score: %.8f\" % (score))\n",
    "print(\"acc: %.8f\" % (acc))"
   ]
  }
 ],
 "metadata": {
  "kernelspec": {
   "display_name": "Python 3",
   "language": "python",
   "name": "python3"
  },
  "language_info": {
   "codemirror_mode": {
    "name": "ipython",
    "version": 3
   },
   "file_extension": ".py",
   "mimetype": "text/x-python",
   "name": "python",
   "nbconvert_exporter": "python",
   "pygments_lexer": "ipython3",
   "version": "3.5.3"
  }
 },
 "nbformat": 4,
 "nbformat_minor": 2
}
